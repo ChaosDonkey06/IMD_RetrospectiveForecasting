{
 "cells": [
  {
   "cell_type": "code",
   "execution_count": 1,
   "metadata": {},
   "outputs": [],
   "source": [
    "%config InlineBackend.figure_format ='retina'\n",
    "\n",
    "from matplotlib.dates import date2num, num2date\n",
    "from matplotlib.colors import ListedColormap\n",
    "from matplotlib import dates as mdates\n",
    "from matplotlib.patches import Patch\n",
    "from matplotlib import pyplot as plt\n",
    "from matplotlib import ticker\n",
    "\n",
    "import pandas as pd\n",
    "import numpy as np\n",
    "import os\n",
    "\n",
    "import sys\n",
    "\n",
    "sys.path.insert(0, '../')\n",
    "\n",
    "from global_config import config\n",
    "\n",
    "results_dir   = config.get_property('results_dir')\n",
    "data_dir      = config.get_property('data_dir')\n",
    "\n",
    "#%% Plot Tong's default setting\n",
    "SMALL_SIZE  = 18\n",
    "MEDIUM_SIZE = 18\n",
    "BIGGER_SIZE = 18\n",
    "\n",
    "plt.rc('font',   size=SMALL_SIZE, family='sans-serif', serif='Arial')          # controls default text sizes\n",
    "plt.rc('axes',   titlesize=BIGGER_SIZE)  # fontsize of the axes title\n",
    "plt.rc('axes',   labelsize=MEDIUM_SIZE)  # fontsize of the x and y labels\n",
    "plt.rc('xtick',  labelsize=SMALL_SIZE)   # fontsize of the tick labels\"\n",
    "plt.rc('ytick',  labelsize=SMALL_SIZE)   # fontsize of the tick labels\n",
    "plt.rc('legend', fontsize=SMALL_SIZE)    # legend fontsize\n",
    "plt.rc('figure', titlesize=BIGGER_SIZE)  # fontsize of the figure title\n",
    "plt.rc('text')\n"
   ]
  },
  {
   "cell_type": "code",
   "execution_count": 2,
   "metadata": {},
   "outputs": [],
   "source": [
    "path_to_frcst_1 = os.path.join(results_dir, \"forecast\", \"arima\")\n",
    "path_to_frcst_2 = os.path.join(results_dir, \"forecast\", \"eakf_model1\")\n",
    "path_to_frcst_3 = os.path.join(results_dir, \"forecast\", \"eakf_model2\")\n",
    "path_to_frcst_4 = os.path.join(results_dir, \"forecast\", \"eakf_model3\")\n",
    "\n",
    "evals_df        = pd.read_csv(os.path.join(results_dir, \"forecast\", \"evaluation\", \"scores.csv\"), parse_dates=[\"frsct_date\"])\n",
    "usa_df          = pd.read_csv(os.path.join(data_dir, \"processed_data_us.csv\"))\n",
    "usa_df[\"date\"]  = pd.to_datetime(usa_df[\"date\"])\n",
    "dates_forecasts = usa_df.date[11:].values\n"
   ]
  },
  {
   "cell_type": "code",
   "execution_count": 3,
   "metadata": {},
   "outputs": [],
   "source": [
    "def create_df_ensemble(weights_df, forecast_df_list, name_models):\n",
    "    e_df = [forecast_df_list[idx]* weights_df.loc[name_models[idx]][\"weigth\"] for idx in range(len(forecast_df_list))]\n",
    "    e_df = sum(e_df)\n",
    "    return e_df"
   ]
  },
  {
   "cell_type": "code",
   "execution_count": 4,
   "metadata": {},
   "outputs": [],
   "source": [
    "all_past_df   = pd.read_csv(os.path.join(results_dir, \"forecast\", \"evaluation\",  \"BD_scores_all_past.csv\"), parse_dates=[\"frsct_date\"]); all_past_df[\"frsct_date\"] = all_past_df[\"forecast_date\"]\n",
    "eq_weights_df = pd.read_csv( os.path.join(results_dir, \"forecast\", \"evaluation\", \"BD_scores_equal_weights.csv\"), parse_dates=[\"frsct_date\"])\n",
    "k_past_df     = pd.read_csv(os.path.join(results_dir, \"forecast\", \"evaluation\",  \"BD_scores_K_past.csv\"), parse_dates=[\"frsct_date\"]); k_past_df[\"frsct_date\"] = k_past_df[\"forecast_date\"]\n",
    "k_past        = ['2_past_ens', '3_past_ens', '4_past_ens', '5_past_ens', '6_past_ens']\n",
    "k_past_df     = pd.concat([k_past_df, all_past_df])\n"
   ]
  },
  {
   "cell_type": "code",
   "execution_count": 5,
   "metadata": {},
   "outputs": [],
   "source": [
    "%config InlineBackend.figure_format ='retina'\n",
    "from matplotlib.dates import date2num, num2date\n",
    "from matplotlib.colors import ListedColormap\n",
    "from matplotlib import dates as mdates\n",
    "from matplotlib.patches import Patch\n",
    "from matplotlib import pyplot as plt\n",
    "from matplotlib import ticker\n",
    "\n",
    "import seaborn as sns\n",
    "import pylab\n",
    "\n",
    "weekdict = {'1m': 1, '2m': 2, '3m': 3, '4m': 4, '5m': 5, '6m': 6}\n",
    "\n",
    "def format_type_label_ensmelbe(s):\n",
    "    if s == \"all_past_ens\":\n",
    "        return \"All past\"\n",
    "    else:\n",
    "        return s[0]+\" months\"\n",
    "\n",
    "NUM_COLORS = 6\n",
    "cm         = pylab.get_cmap('gist_ncar')\n",
    "paletteee  = [cm(idx_c/NUM_COLORS) for idx_c in range(NUM_COLORS)]\n"
   ]
  },
  {
   "cell_type": "code",
   "execution_count": 6,
   "metadata": {},
   "outputs": [],
   "source": [
    "scores_models_df = pd.read_csv(os.path.join(results_dir, \"forecast\", \"evaluation\", \"BD_scores.csv\"), parse_dates=[\"frsct_date\"])\n",
    "\n",
    "model_stats_df = scores_models_df.copy()\n",
    "ens_stats_df   = k_past_df.copy()\n",
    "\n",
    "eq_weights_resume_df = eq_weights_df\n",
    "\n",
    "ens_stats_df = ens_stats_df[ens_stats_df.method.isin([\"2_past_ens\", \"3_past_ens\", \"4_past_ens\", \"5_past_ens\", \"6_past_ens\", \"all_past_ens\"])]\n",
    "lines_fit_df = ens_stats_df.copy() # pd.concat([ens_stats_df, eq_weights_resume_df])\n",
    "lines_fit_df = lines_fit_df[lines_fit_df.eval_horizon_ensemble==\"6m\"].drop(columns=[\"mae\", \"error\", \"eval_horizon_ensemble\", \"score\", \"method\", \"frsct_date\", \"type\"])"
   ]
  },
  {
   "cell_type": "code",
   "execution_count": 7,
   "metadata": {},
   "outputs": [],
   "source": [
    "years          = ['2006', '2007', '2008', '2009', '2010', '2011', '2012', '2013', '2014', '2015', '2016', '2017', '2018', '2019', '2020']\n",
    "pre_vac_years  = years[:6]\n",
    "post_vac_years = years[6:]\n"
   ]
  },
  {
   "cell_type": "code",
   "execution_count": 8,
   "metadata": {},
   "outputs": [],
   "source": [
    "past2num                      = {'2_past_ens': 0, '3_past_ens' : 1, '4_past_ens' : 2, '5_past_ens' : 3 , '6_past_ens' : 4, 'all_past_ens' : 5}\n",
    "\n",
    "lines_fit_df[\"x_reg\"]         = lines_fit_df[\"type_ensemble\"].map(past2num)\n",
    "lines_fit_df[\"forecast_date\"] = pd.to_datetime(lines_fit_df[\"forecast_date\"])\n",
    "lines_fit_df[\"year\"]          = lines_fit_df[\"forecast_date\"].dt.year\n",
    "\n",
    "line_data_df = pd.DataFrame(columns=[ \"type_ensemble\", \"x_reg\", \"wis\", \"eval_horizon\", \"data_split\"])\n",
    "\n",
    "name_split = [\"All study period\", \"Pre-vaccine\", \"Post-vaccine\"]\n",
    "\n",
    "for evaluation_horizon in [\"1m\", \"2m\", \"3m\", \"4m\", \"5m\", \"6m\"]:\n",
    "\n",
    "    for i, data_split in enumerate([years, pre_vac_years, post_vac_years]):\n",
    "        line_df                 = lines_fit_df.query(f\"eval_horizon == '{evaluation_horizon}'\").query(f\"year in {[int(y) for y in data_split]}\")\n",
    "        line_df                 = line_df.groupby([\"type_ensemble\", \"x_reg\"]).agg({\"wis\" : \"mean\"}).reset_index()\n",
    "        line_df[\"eval_horizon\"] = evaluation_horizon\n",
    "        line_df[\"data_split\"]   = name_split[i]\n",
    "\n",
    "        line_data_df = pd.concat([line_data_df, line_df])\n"
   ]
  },
  {
   "cell_type": "code",
   "execution_count": 33,
   "metadata": {},
   "outputs": [],
   "source": [
    "def linear_reg(x_naive, y):\n",
    "    x_naive  = np.expand_dims(x_naive, axis=1)\n",
    "    xreg     = np.concatenate([np.ones_like((x_naive)), x_naive], axis=1)\n",
    "\n",
    "    teta = np.linalg.pinv(xreg.T @ xreg) @ xreg.T @ y\n",
    "    yhat = np.dot(xreg, teta)\n",
    "\n",
    "    return teta, yhat\n"
   ]
  },
  {
   "cell_type": "code",
   "execution_count": 40,
   "metadata": {},
   "outputs": [],
   "source": [
    "fig, ax = plt.subplots(3, 6, figsize=(14.5, 9.2), sharex=True, sharey=\"row\")\n",
    "\n",
    "for ix, data_split in enumerate(name_split):\n",
    "    for iy, eh in enumerate([\"1m\", \"2m\", \"3m\", \"4m\", \"5m\", \"6m\"]):\n",
    "\n",
    "        plt_df = line_data_df.query(f\"data_split == '{data_split}' & eval_horizon == '{eh}'\")\n",
    "\n",
    "        p, yhat = linear_reg(np.double(plt_df.x_reg), plt_df.wis)\n",
    "        ax[ix, iy].plot(plt_df.x_reg, yhat, color=\"k\", lw=2)\n",
    "\n",
    "        p, yhat = linear_reg(np.double(plt_df.x_reg)[:-1], plt_df.wis[:-1])\n",
    "        ax[ix, iy].plot(plt_df.x_reg[:-1], yhat, color=\"k\", lw=2, ls=\"--\")\n",
    "\n",
    "        ax[ix, iy].scatter(plt_df.x_reg, plt_df.wis, ec=\"k\", fc=[\"mediumpurple\", \"mediumpurple\", \"mediumpurple\", \"mediumpurple\", \"mediumpurple\", \"darkred\"], alpha=0.7, s=40)\n",
    "        ax[ix, iy].spines['right'].set_visible(False)\n",
    "        ax[ix, iy].spines['top'].set_visible(False)\n",
    "\n",
    "for iy, eh in enumerate([\"1m\", \"2m\", \"3m\", \"4m\", \"5m\", \"6m\"]):\n",
    "    ax[0, iy].set_title(f\"{eh}\")\n",
    "\n",
    "fig.supxlabel(\"Number of past months used to train the MME\")\n",
    "fig.supylabel(\"WIS\")\n",
    "\n",
    "\n",
    "fig.savefig(os.path.join(results_dir, \"figures\", \"reviews\", \"performance_fcast_horizon.png\"), dpi=300, transparent=True)\n"
   ]
  },
  {
   "cell_type": "code",
   "execution_count": null,
   "metadata": {},
   "outputs": [],
   "source": []
  }
 ],
 "metadata": {
  "kernelspec": {
   "display_name": "base",
   "language": "python",
   "name": "python3"
  },
  "language_info": {
   "codemirror_mode": {
    "name": "ipython",
    "version": 3
   },
   "file_extension": ".py",
   "mimetype": "text/x-python",
   "name": "python",
   "nbconvert_exporter": "python",
   "pygments_lexer": "ipython3",
   "version": "3.8.2"
  },
  "orig_nbformat": 4
 },
 "nbformat": 4,
 "nbformat_minor": 2
}
