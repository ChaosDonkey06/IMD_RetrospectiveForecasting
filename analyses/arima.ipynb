{
 "cells": [
  {
   "cell_type": "code",
   "execution_count": 5,
   "metadata": {},
   "outputs": [],
   "source": [
    "from matplotlib.dates import date2num, num2date\n",
    "from matplotlib.colors import ListedColormap\n",
    "from matplotlib import dates as mdates\n",
    "from matplotlib.patches import Patch\n",
    "from matplotlib import pyplot as plt\n",
    "from matplotlib import ticker\n",
    "\n",
    "import pandas as pd\n",
    "import numpy as np\n",
    "import itertools\n",
    "import sys\n",
    "import re\n",
    "import os\n",
    "\n",
    "sys.path.insert(0, \"..\")\n",
    "\n",
    "from global_config import config\n",
    "\n",
    "results_dir   = config.get_property('results_dir')\n",
    "data_dir      = config.get_property('data_dir')\n"
   ]
  },
  {
   "cell_type": "code",
   "execution_count": 6,
   "metadata": {},
   "outputs": [],
   "source": [
    "from statsmodels.tsa.arima.model import ARIMA\n",
    "from statsmodels.tsa.stattools import acf, pacf\n",
    "\n",
    "from tqdm import tqdm\n",
    "import warnings\n",
    "\n",
    "warnings.filterwarnings(\"ignore\")\n",
    "\n",
    "class ARIMA_model(object):\n",
    "    @classmethod\n",
    "    def fit_arima(cls, data, order):\n",
    "        model = ARIMA(data, order=order).fit()\n",
    "        aic   = model.aic\n",
    "        return (model, aic)\n",
    "\n",
    "    @classmethod\n",
    "    def optimize_arima(cls, data, d_values=[1]):\n",
    "        log_data              =  data.copy()\n",
    "        log_data[log_data==0] += 1\n",
    "\n",
    "        log_data   = np.log(log_data)\n",
    "        nlags_use  = np.minimum((len(data) -1)// 2-1, 40)\n",
    "        acf_d      = acf(log_data.diff().dropna(), nlags=nlags_use, alpha=0.05)\n",
    "        p_values   = np.where((acf_d[0]<= acf_d[1][:,0]-acf_d[0]) + (acf_d[0]>= acf_d[1][:,1]-acf_d[0]))[0]\n",
    "        pacf_d     = pacf(log_data.diff().dropna(), nlags=nlags_use, alpha=0.05)\n",
    "        q_values   = np.where((pacf_d[0]<= pacf_d[1][:,0]-pacf_d[0]) + (pacf_d[0]>= pacf_d[1][:,1]-pacf_d[0]))[0]\n",
    "        best_aic   = np.inf\n",
    "        best_model = None\n",
    "        best_cfg   = None\n",
    "\n",
    "        for p in tqdm(p_values):\n",
    "            for d in d_values:\n",
    "                for q in q_values:\n",
    "                    order = (p,d,q)\n",
    "                    try:\n",
    "                        model, aic = cls.fit_arima(log_data, order=order)\n",
    "                    except:\n",
    "                        continue\n",
    "\n",
    "                    if aic < best_aic:\n",
    "                        best_aic, best_cfg = aic, order\n",
    "                        best_model = model\n",
    "\n",
    "        return (best_model, best_cfg, best_aic)\n",
    "\n",
    "    def forecast_arima(cls, data=None, T_future=28, quantiles=[5, 10, 15, 20, 25, 30, 35, 40, 45, 50, 55, 60, 65, 70, 75, 80, 85, 90, 95, 97.5]):\n",
    "        if data is not None:\n",
    "\n",
    "            (best_model, best_cfg, best_aic) = cls.optimize_arima(data)\n",
    "            PredictionResultsWrapper         = best_model.get_forecast(steps=T_future, dynamic=True)\n",
    "            df_result                        = np.exp(PredictionResultsWrapper.conf_int(alpha=1))\n",
    "            df_result.columns                = ['mean', 'median']\n",
    "            df_result.index.name             = 'date'\n",
    "\n",
    "            for quant in quantiles:\n",
    "                df_ci            = np.exp(PredictionResultsWrapper.conf_int(alpha=1-quant/100))\n",
    "                df_ci.columns    = [f'low_{quant}', f'up_{quant}']\n",
    "                df_ci.index.name = 'date'\n",
    "                df_result        = pd.merge(df_result, df_ci, left_index=True, right_index=True)\n",
    "\n",
    "        return df_result\n"
   ]
  },
  {
   "cell_type": "code",
   "execution_count": 7,
   "metadata": {},
   "outputs": [],
   "source": [
    "from itertools import product\n",
    "from tqdm import tqdm\n",
    "\n",
    "usa_df             = pd.read_csv(os.path.join(data_dir, \"processed_data_us.csv\"), parse_dates=[\"date\"])\n",
    "path_to_save_frcst = os.path.join(results_dir, \"forecast\", \"arima\")\n",
    "\n",
    "dates_forecasts    = usa_df.date[11:].values\n",
    "date_init          = usa_df.date.iloc[0]\n",
    "FORECAST_MONTHS    = 6\n",
    "dates_failed       = []"
   ]
  },
  {
   "cell_type": "code",
   "execution_count": 8,
   "metadata": {},
   "outputs": [
    {
     "name": "stderr",
     "output_type": "stream",
     "text": [
      "0it [00:00, ?it/s]"
     ]
    },
    {
     "name": "stdout",
     "output_type": "stream",
     "text": [
      "running for date 2006-12-31T00:00:00.000000000\n"
     ]
    },
    {
     "name": "stderr",
     "output_type": "stream",
     "text": [
      "100%|██████████| 1/1 [00:00<00:00, 29.93it/s]\n",
      "1it [00:00,  4.90it/s]"
     ]
    },
    {
     "name": "stdout",
     "output_type": "stream",
     "text": [
      "running for date 2007-01-31T00:00:00.000000000\n"
     ]
    },
    {
     "name": "stderr",
     "output_type": "stream",
     "text": [
      "100%|██████████| 1/1 [00:00<00:00, 10.24it/s]\n",
      "2it [00:00,  4.34it/s]"
     ]
    },
    {
     "name": "stdout",
     "output_type": "stream",
     "text": [
      "running for date 2007-02-28T00:00:00.000000000\n"
     ]
    },
    {
     "name": "stderr",
     "output_type": "stream",
     "text": [
      "100%|██████████| 1/1 [00:00<00:00, 29.64it/s]\n",
      "3it [00:00,  4.59it/s]"
     ]
    },
    {
     "name": "stdout",
     "output_type": "stream",
     "text": [
      "running for date 2007-03-31T00:00:00.000000000\n"
     ]
    },
    {
     "name": "stderr",
     "output_type": "stream",
     "text": [
      "100%|██████████| 1/1 [00:00<00:00,  1.98it/s]\n",
      "4it [00:01,  2.78it/s]"
     ]
    },
    {
     "name": "stdout",
     "output_type": "stream",
     "text": [
      "running for date 2007-04-30T00:00:00.000000000\n"
     ]
    },
    {
     "name": "stderr",
     "output_type": "stream",
     "text": [
      "100%|██████████| 1/1 [00:00<00:00,  3.64it/s]\n",
      "5it [00:01,  2.87it/s]"
     ]
    },
    {
     "name": "stdout",
     "output_type": "stream",
     "text": [
      "running for date 2007-05-31T00:00:00.000000000\n"
     ]
    },
    {
     "name": "stderr",
     "output_type": "stream",
     "text": [
      "100%|██████████| 1/1 [00:00<00:00,  4.45it/s]\n",
      "6it [00:01,  3.08it/s]"
     ]
    },
    {
     "name": "stdout",
     "output_type": "stream",
     "text": [
      "running for date 2007-06-30T00:00:00.000000000\n"
     ]
    },
    {
     "name": "stderr",
     "output_type": "stream",
     "text": [
      "100%|██████████| 1/1 [00:00<00:00,  3.87it/s]\n",
      "7it [00:02,  3.09it/s]"
     ]
    },
    {
     "name": "stdout",
     "output_type": "stream",
     "text": [
      "running for date 2007-07-31T00:00:00.000000000\n"
     ]
    },
    {
     "name": "stderr",
     "output_type": "stream",
     "text": [
      "100%|██████████| 1/1 [00:00<00:00,  1.47it/s]\n",
      "8it [00:02,  2.12it/s]"
     ]
    },
    {
     "name": "stdout",
     "output_type": "stream",
     "text": [
      "running for date 2007-08-31T00:00:00.000000000\n"
     ]
    },
    {
     "name": "stderr",
     "output_type": "stream",
     "text": [
      "100%|██████████| 1/1 [00:00<00:00,  1.73it/s]\n",
      "9it [00:03,  1.86it/s]"
     ]
    },
    {
     "name": "stdout",
     "output_type": "stream",
     "text": [
      "running for date 2007-09-30T00:00:00.000000000\n"
     ]
    },
    {
     "name": "stderr",
     "output_type": "stream",
     "text": [
      "100%|██████████| 1/1 [00:00<00:00,  1.15it/s]\n",
      "10it [00:04,  1.49it/s]"
     ]
    },
    {
     "name": "stdout",
     "output_type": "stream",
     "text": [
      "running for date 2007-10-31T00:00:00.000000000\n"
     ]
    },
    {
     "name": "stderr",
     "output_type": "stream",
     "text": [
      "100%|██████████| 2/2 [00:02<00:00,  1.26s/it]\n",
      "11it [00:07,  1.25s/it]"
     ]
    },
    {
     "name": "stdout",
     "output_type": "stream",
     "text": [
      "running for date 2007-11-30T00:00:00.000000000\n"
     ]
    },
    {
     "name": "stderr",
     "output_type": "stream",
     "text": [
      "100%|██████████| 1/1 [00:00<00:00,  1.71it/s]\n",
      "12it [00:07,  1.08s/it]"
     ]
    },
    {
     "name": "stdout",
     "output_type": "stream",
     "text": [
      "running for date 2007-12-31T00:00:00.000000000\n"
     ]
    },
    {
     "name": "stderr",
     "output_type": "stream",
     "text": [
      "100%|██████████| 1/1 [00:00<00:00,  1.24it/s]\n",
      "13it [00:08,  1.02s/it]"
     ]
    },
    {
     "name": "stdout",
     "output_type": "stream",
     "text": [
      "running for date 2008-01-31T00:00:00.000000000\n"
     ]
    },
    {
     "name": "stderr",
     "output_type": "stream",
     "text": [
      "100%|██████████| 1/1 [00:00<00:00, 20.92it/s]\n",
      "14it [00:08,  1.32it/s]"
     ]
    },
    {
     "name": "stdout",
     "output_type": "stream",
     "text": [
      "running for date 2008-02-29T00:00:00.000000000\n"
     ]
    },
    {
     "name": "stderr",
     "output_type": "stream",
     "text": [
      "100%|██████████| 2/2 [00:01<00:00,  1.08it/s]\n",
      "15it [00:10,  1.12s/it]"
     ]
    },
    {
     "name": "stdout",
     "output_type": "stream",
     "text": [
      "running for date 2008-03-31T00:00:00.000000000\n"
     ]
    },
    {
     "name": "stderr",
     "output_type": "stream",
     "text": [
      "100%|██████████| 2/2 [00:00<00:00, 14.36it/s]\n",
      "16it [00:11,  1.18it/s]"
     ]
    },
    {
     "name": "stdout",
     "output_type": "stream",
     "text": [
      "running for date 2008-04-30T00:00:00.000000000\n"
     ]
    },
    {
     "name": "stderr",
     "output_type": "stream",
     "text": [
      "100%|██████████| 2/2 [00:03<00:00,  1.57s/it]\n",
      "17it [00:14,  1.56s/it]"
     ]
    },
    {
     "name": "stdout",
     "output_type": "stream",
     "text": [
      "running for date 2008-05-31T00:00:00.000000000\n"
     ]
    },
    {
     "name": "stderr",
     "output_type": "stream",
     "text": [
      "100%|██████████| 2/2 [00:03<00:00,  1.80s/it]\n",
      "18it [00:17,  2.19s/it]"
     ]
    },
    {
     "name": "stdout",
     "output_type": "stream",
     "text": [
      "running for date 2008-06-30T00:00:00.000000000\n"
     ]
    },
    {
     "name": "stderr",
     "output_type": "stream",
     "text": [
      "100%|██████████| 2/2 [00:03<00:00,  1.57s/it]\n",
      "19it [00:21,  2.50s/it]"
     ]
    },
    {
     "name": "stdout",
     "output_type": "stream",
     "text": [
      "running for date 2008-07-31T00:00:00.000000000\n"
     ]
    },
    {
     "name": "stderr",
     "output_type": "stream",
     "text": [
      "100%|██████████| 2/2 [00:04<00:00,  2.24s/it]\n",
      "20it [00:25,  3.12s/it]"
     ]
    },
    {
     "name": "stdout",
     "output_type": "stream",
     "text": [
      "running for date 2008-08-31T00:00:00.000000000\n"
     ]
    },
    {
     "name": "stderr",
     "output_type": "stream",
     "text": [
      "100%|██████████| 2/2 [00:05<00:00,  2.85s/it]\n",
      "21it [00:31,  3.91s/it]"
     ]
    },
    {
     "name": "stdout",
     "output_type": "stream",
     "text": [
      "running for date 2008-09-30T00:00:00.000000000\n"
     ]
    },
    {
     "name": "stderr",
     "output_type": "stream",
     "text": [
      "100%|██████████| 2/2 [00:05<00:00,  2.59s/it]\n",
      "22it [00:36,  4.31s/it]"
     ]
    },
    {
     "name": "stdout",
     "output_type": "stream",
     "text": [
      "running for date 2008-10-31T00:00:00.000000000\n"
     ]
    },
    {
     "name": "stderr",
     "output_type": "stream",
     "text": [
      "100%|██████████| 2/2 [00:06<00:00,  3.15s/it]\n",
      "23it [00:43,  4.92s/it]"
     ]
    },
    {
     "name": "stdout",
     "output_type": "stream",
     "text": [
      "running for date 2008-11-30T00:00:00.000000000\n"
     ]
    },
    {
     "name": "stderr",
     "output_type": "stream",
     "text": [
      "100%|██████████| 2/2 [00:04<00:00,  2.26s/it]\n",
      "24it [00:47,  4.82s/it]"
     ]
    },
    {
     "name": "stdout",
     "output_type": "stream",
     "text": [
      "running for date 2008-12-31T00:00:00.000000000\n"
     ]
    },
    {
     "name": "stderr",
     "output_type": "stream",
     "text": [
      "100%|██████████| 2/2 [00:05<00:00,  2.91s/it]\n",
      "25it [00:53,  5.13s/it]"
     ]
    },
    {
     "name": "stdout",
     "output_type": "stream",
     "text": [
      "running for date 2009-01-31T00:00:00.000000000\n"
     ]
    },
    {
     "name": "stderr",
     "output_type": "stream",
     "text": [
      "100%|██████████| 2/2 [00:06<00:00,  3.01s/it]\n",
      "26it [00:59,  5.42s/it]"
     ]
    },
    {
     "name": "stdout",
     "output_type": "stream",
     "text": [
      "running for date 2009-02-28T00:00:00.000000000\n"
     ]
    },
    {
     "name": "stderr",
     "output_type": "stream",
     "text": [
      "100%|██████████| 2/2 [00:06<00:00,  3.42s/it]\n",
      "27it [01:06,  5.86s/it]"
     ]
    },
    {
     "name": "stdout",
     "output_type": "stream",
     "text": [
      "running for date 2009-03-31T00:00:00.000000000\n"
     ]
    },
    {
     "name": "stderr",
     "output_type": "stream",
     "text": [
      "100%|██████████| 2/2 [00:10<00:00,  5.02s/it]\n",
      "28it [01:16,  7.13s/it]"
     ]
    },
    {
     "name": "stdout",
     "output_type": "stream",
     "text": [
      "running for date 2009-04-30T00:00:00.000000000\n"
     ]
    },
    {
     "name": "stderr",
     "output_type": "stream",
     "text": [
      "100%|██████████| 2/2 [00:07<00:00,  3.83s/it]\n",
      "29it [01:24,  7.31s/it]"
     ]
    },
    {
     "name": "stdout",
     "output_type": "stream",
     "text": [
      "running for date 2009-05-31T00:00:00.000000000\n"
     ]
    },
    {
     "name": "stderr",
     "output_type": "stream",
     "text": [
      "100%|██████████| 2/2 [00:11<00:00,  5.98s/it]\n",
      "30it [01:36,  8.72s/it]"
     ]
    },
    {
     "name": "stdout",
     "output_type": "stream",
     "text": [
      "running for date 2009-06-30T00:00:00.000000000\n"
     ]
    },
    {
     "name": "stderr",
     "output_type": "stream",
     "text": [
      "100%|██████████| 2/2 [00:12<00:00,  6.16s/it]\n",
      "31it [01:48,  9.82s/it]"
     ]
    },
    {
     "name": "stdout",
     "output_type": "stream",
     "text": [
      "running for date 2009-07-31T00:00:00.000000000\n"
     ]
    },
    {
     "name": "stderr",
     "output_type": "stream",
     "text": [
      "100%|██████████| 2/2 [00:15<00:00,  7.53s/it]\n",
      "32it [02:03, 11.42s/it]"
     ]
    },
    {
     "name": "stdout",
     "output_type": "stream",
     "text": [
      "running for date 2009-08-31T00:00:00.000000000\n"
     ]
    },
    {
     "name": "stderr",
     "output_type": "stream",
     "text": [
      "100%|██████████| 2/2 [00:18<00:00,  9.16s/it]\n",
      "33it [02:22, 13.51s/it]"
     ]
    },
    {
     "name": "stdout",
     "output_type": "stream",
     "text": [
      "running for date 2009-09-30T00:00:00.000000000\n"
     ]
    },
    {
     "name": "stderr",
     "output_type": "stream",
     "text": [
      "100%|██████████| 2/2 [00:20<00:00, 10.05s/it]\n",
      "34it [02:42, 15.51s/it]"
     ]
    },
    {
     "name": "stdout",
     "output_type": "stream",
     "text": [
      "running for date 2009-10-31T00:00:00.000000000\n"
     ]
    },
    {
     "name": "stderr",
     "output_type": "stream",
     "text": [
      "100%|██████████| 2/2 [00:17<00:00,  8.71s/it]\n",
      "35it [02:59, 16.10s/it]"
     ]
    },
    {
     "name": "stdout",
     "output_type": "stream",
     "text": [
      "running for date 2009-11-30T00:00:00.000000000\n"
     ]
    },
    {
     "name": "stderr",
     "output_type": "stream",
     "text": [
      "100%|██████████| 2/2 [00:20<00:00, 10.06s/it]\n",
      "36it [03:20, 17.33s/it]"
     ]
    },
    {
     "name": "stdout",
     "output_type": "stream",
     "text": [
      "running for date 2009-12-31T00:00:00.000000000\n"
     ]
    },
    {
     "name": "stderr",
     "output_type": "stream",
     "text": [
      "100%|██████████| 2/2 [00:22<00:00, 11.16s/it]\n",
      "37it [03:42, 18.85s/it]"
     ]
    },
    {
     "name": "stdout",
     "output_type": "stream",
     "text": [
      "running for date 2010-01-31T00:00:00.000000000\n"
     ]
    },
    {
     "name": "stderr",
     "output_type": "stream",
     "text": [
      "100%|██████████| 2/2 [00:29<00:00, 14.68s/it]\n",
      "38it [04:11, 22.02s/it]"
     ]
    },
    {
     "name": "stdout",
     "output_type": "stream",
     "text": [
      "running for date 2010-02-28T00:00:00.000000000\n"
     ]
    },
    {
     "name": "stderr",
     "output_type": "stream",
     "text": [
      "100%|██████████| 2/2 [00:34<00:00, 17.12s/it]\n",
      "39it [04:46, 25.71s/it]"
     ]
    },
    {
     "name": "stdout",
     "output_type": "stream",
     "text": [
      "running for date 2010-03-31T00:00:00.000000000\n"
     ]
    },
    {
     "name": "stderr",
     "output_type": "stream",
     "text": [
      "100%|██████████| 2/2 [00:31<00:00, 15.92s/it]\n",
      "40it [05:18, 27.57s/it]"
     ]
    },
    {
     "name": "stdout",
     "output_type": "stream",
     "text": [
      "running for date 2010-04-30T00:00:00.000000000\n"
     ]
    },
    {
     "name": "stderr",
     "output_type": "stream",
     "text": [
      "100%|██████████| 2/2 [00:29<00:00, 14.60s/it]\n",
      "41it [05:47, 28.08s/it]"
     ]
    },
    {
     "name": "stdout",
     "output_type": "stream",
     "text": [
      "running for date 2010-05-31T00:00:00.000000000\n"
     ]
    },
    {
     "name": "stderr",
     "output_type": "stream",
     "text": [
      "100%|██████████| 2/2 [00:34<00:00, 17.24s/it]\n",
      "42it [06:21, 30.02s/it]"
     ]
    },
    {
     "name": "stdout",
     "output_type": "stream",
     "text": [
      "running for date 2010-06-30T00:00:00.000000000\n"
     ]
    },
    {
     "name": "stderr",
     "output_type": "stream",
     "text": [
      "100%|██████████| 2/2 [00:32<00:00, 16.02s/it]\n",
      "43it [06:54, 30.66s/it]"
     ]
    },
    {
     "name": "stdout",
     "output_type": "stream",
     "text": [
      "running for date 2010-07-31T00:00:00.000000000\n"
     ]
    },
    {
     "name": "stderr",
     "output_type": "stream",
     "text": [
      "100%|██████████| 2/2 [00:32<00:00, 16.04s/it]\n",
      "44it [07:26, 31.13s/it]"
     ]
    },
    {
     "name": "stdout",
     "output_type": "stream",
     "text": [
      "running for date 2010-08-31T00:00:00.000000000\n"
     ]
    },
    {
     "name": "stderr",
     "output_type": "stream",
     "text": [
      "100%|██████████| 2/2 [00:44<00:00, 22.24s/it]\n",
      "45it [08:10, 35.16s/it]"
     ]
    },
    {
     "name": "stdout",
     "output_type": "stream",
     "text": [
      "running for date 2010-09-30T00:00:00.000000000\n"
     ]
    },
    {
     "name": "stderr",
     "output_type": "stream",
     "text": [
      "100%|██████████| 2/2 [00:35<00:00, 17.54s/it]\n",
      "46it [08:46, 35.16s/it]"
     ]
    },
    {
     "name": "stdout",
     "output_type": "stream",
     "text": [
      "running for date 2010-10-31T00:00:00.000000000\n"
     ]
    },
    {
     "name": "stderr",
     "output_type": "stream",
     "text": [
      "100%|██████████| 2/2 [00:40<00:00, 20.34s/it]\n",
      "47it [09:26, 36.84s/it]"
     ]
    },
    {
     "name": "stdout",
     "output_type": "stream",
     "text": [
      "running for date 2010-11-30T00:00:00.000000000\n"
     ]
    },
    {
     "name": "stderr",
     "output_type": "stream",
     "text": [
      "100%|██████████| 2/2 [00:48<00:00, 24.25s/it]\n",
      "48it [10:15, 40.36s/it]"
     ]
    },
    {
     "name": "stdout",
     "output_type": "stream",
     "text": [
      "running for date 2010-12-31T00:00:00.000000000\n"
     ]
    },
    {
     "name": "stderr",
     "output_type": "stream",
     "text": [
      "100%|██████████| 2/2 [00:56<00:00, 28.31s/it]\n",
      "49it [11:12, 45.27s/it]"
     ]
    },
    {
     "name": "stdout",
     "output_type": "stream",
     "text": [
      "running for date 2011-01-31T00:00:00.000000000\n"
     ]
    },
    {
     "name": "stderr",
     "output_type": "stream",
     "text": [
      "100%|██████████| 2/2 [01:10<00:00, 35.04s/it]\n",
      "50it [12:22, 52.73s/it]"
     ]
    },
    {
     "name": "stdout",
     "output_type": "stream",
     "text": [
      "running for date 2011-02-28T00:00:00.000000000\n"
     ]
    },
    {
     "name": "stderr",
     "output_type": "stream",
     "text": [
      "100%|██████████| 2/2 [01:09<00:00, 34.51s/it]\n",
      "51it [13:31, 57.65s/it]"
     ]
    },
    {
     "name": "stdout",
     "output_type": "stream",
     "text": [
      "running for date 2011-03-31T00:00:00.000000000\n"
     ]
    },
    {
     "name": "stderr",
     "output_type": "stream",
     "text": [
      "100%|██████████| 2/2 [01:15<00:00, 37.94s/it]\n",
      "52it [14:47, 63.14s/it]"
     ]
    },
    {
     "name": "stdout",
     "output_type": "stream",
     "text": [
      "running for date 2011-04-30T00:00:00.000000000\n"
     ]
    },
    {
     "name": "stderr",
     "output_type": "stream",
     "text": [
      "100%|██████████| 2/2 [01:18<00:00, 39.32s/it]\n",
      "53it [16:06, 67.81s/it]"
     ]
    },
    {
     "name": "stdout",
     "output_type": "stream",
     "text": [
      "running for date 2011-05-31T00:00:00.000000000\n"
     ]
    },
    {
     "name": "stderr",
     "output_type": "stream",
     "text": [
      "100%|██████████| 2/2 [01:21<00:00, 40.79s/it]\n",
      "54it [17:27, 71.97s/it]"
     ]
    },
    {
     "name": "stdout",
     "output_type": "stream",
     "text": [
      "running for date 2011-06-30T00:00:00.000000000\n"
     ]
    },
    {
     "name": "stderr",
     "output_type": "stream",
     "text": [
      "100%|██████████| 2/2 [01:24<00:00, 42.07s/it]\n",
      "55it [18:51, 75.65s/it]"
     ]
    },
    {
     "name": "stdout",
     "output_type": "stream",
     "text": [
      "running for date 2011-07-31T00:00:00.000000000\n"
     ]
    },
    {
     "name": "stderr",
     "output_type": "stream",
     "text": [
      "100%|██████████| 2/2 [01:34<00:00, 47.27s/it]\n",
      "56it [20:26, 81.35s/it]"
     ]
    },
    {
     "name": "stdout",
     "output_type": "stream",
     "text": [
      "running for date 2011-08-31T00:00:00.000000000\n"
     ]
    },
    {
     "name": "stderr",
     "output_type": "stream",
     "text": [
      "100%|██████████| 2/2 [00:00<00:00,  5.42it/s]\n",
      "57it [20:27, 57.08s/it]"
     ]
    },
    {
     "name": "stdout",
     "output_type": "stream",
     "text": [
      "running for date 2011-09-30T00:00:00.000000000\n"
     ]
    },
    {
     "name": "stderr",
     "output_type": "stream",
     "text": [
      "100%|██████████| 2/2 [00:14<00:00,  7.46s/it]\n",
      "58it [20:42, 44.46s/it]"
     ]
    },
    {
     "name": "stdout",
     "output_type": "stream",
     "text": [
      "running for date 2011-10-31T00:00:00.000000000\n"
     ]
    },
    {
     "name": "stderr",
     "output_type": "stream",
     "text": [
      "100%|██████████| 2/2 [02:04<00:00, 62.24s/it]\n",
      "59it [22:46, 68.50s/it]"
     ]
    },
    {
     "name": "stdout",
     "output_type": "stream",
     "text": [
      "running for date 2011-11-30T00:00:00.000000000\n"
     ]
    },
    {
     "name": "stderr",
     "output_type": "stream",
     "text": [
      "100%|██████████| 2/2 [01:03<00:00, 31.61s/it]\n",
      "60it [23:49, 66.94s/it]"
     ]
    },
    {
     "name": "stdout",
     "output_type": "stream",
     "text": [
      "running for date 2011-12-31T00:00:00.000000000\n"
     ]
    },
    {
     "name": "stderr",
     "output_type": "stream",
     "text": [
      "100%|██████████| 2/2 [02:10<00:00, 65.35s/it]\n",
      "61it [26:00, 86.10s/it]"
     ]
    },
    {
     "name": "stdout",
     "output_type": "stream",
     "text": [
      "running for date 2012-01-31T00:00:00.000000000\n"
     ]
    },
    {
     "name": "stderr",
     "output_type": "stream",
     "text": [
      "100%|██████████| 2/2 [02:16<00:00, 68.26s/it]\n",
      "62it [28:17, 101.25s/it]"
     ]
    },
    {
     "name": "stdout",
     "output_type": "stream",
     "text": [
      "running for date 2012-02-29T00:00:00.000000000\n"
     ]
    },
    {
     "name": "stderr",
     "output_type": "stream",
     "text": [
      "100%|██████████| 2/2 [02:08<00:00, 64.42s/it]\n",
      "63it [30:26, 109.56s/it]"
     ]
    },
    {
     "name": "stdout",
     "output_type": "stream",
     "text": [
      "running for date 2012-03-31T00:00:00.000000000\n"
     ]
    },
    {
     "name": "stderr",
     "output_type": "stream",
     "text": [
      "100%|██████████| 2/2 [02:11<00:00, 65.59s/it]\n",
      "64it [32:37, 116.07s/it]"
     ]
    },
    {
     "name": "stdout",
     "output_type": "stream",
     "text": [
      "running for date 2012-04-30T00:00:00.000000000\n"
     ]
    },
    {
     "name": "stderr",
     "output_type": "stream",
     "text": [
      "100%|██████████| 2/2 [02:20<00:00, 70.42s/it]\n",
      "65it [34:58, 123.53s/it]"
     ]
    },
    {
     "name": "stdout",
     "output_type": "stream",
     "text": [
      "running for date 2012-05-31T00:00:00.000000000\n"
     ]
    },
    {
     "name": "stderr",
     "output_type": "stream",
     "text": [
      "100%|██████████| 2/2 [02:24<00:00, 72.31s/it]\n",
      "66it [37:23, 129.88s/it]"
     ]
    },
    {
     "name": "stdout",
     "output_type": "stream",
     "text": [
      "running for date 2012-06-30T00:00:00.000000000\n"
     ]
    },
    {
     "name": "stderr",
     "output_type": "stream",
     "text": []
    },
    {
     "name": "stdout",
     "output_type": "stream",
     "text": [
      "** On entry to DLASCL, parameter number  4 had an illegal value\n",
      "** On entry to DLASCL, parameter number  4 had an illegal value\n"
     ]
    },
    {
     "name": "stderr",
     "output_type": "stream",
     "text": [
      "100%|██████████| 2/2 [02:18<00:00, 69.19s/it]\n",
      "67it [39:41, 132.46s/it]"
     ]
    },
    {
     "name": "stdout",
     "output_type": "stream",
     "text": [
      "running for date 2012-07-31T00:00:00.000000000\n"
     ]
    },
    {
     "name": "stderr",
     "output_type": "stream",
     "text": []
    },
    {
     "name": "stdout",
     "output_type": "stream",
     "text": [
      "** On entry to DLASCL, parameter number  4 had an illegal value\n",
      "** On entry to DLASCL, parameter number  4 had an illegal value\n"
     ]
    },
    {
     "name": "stderr",
     "output_type": "stream",
     "text": [
      "100%|██████████| 2/2 [02:51<00:00, 85.78s/it]\n",
      "68it [42:33, 144.21s/it]"
     ]
    },
    {
     "name": "stdout",
     "output_type": "stream",
     "text": [
      "running for date 2012-08-31T00:00:00.000000000\n"
     ]
    },
    {
     "name": "stderr",
     "output_type": "stream",
     "text": []
    },
    {
     "name": "stdout",
     "output_type": "stream",
     "text": [
      "** On entry to DLASCL, parameter number  4 had an illegal value\n",
      "** On entry to DLASCL, parameter number  4 had an illegal value\n"
     ]
    },
    {
     "name": "stderr",
     "output_type": "stream",
     "text": [
      "100%|██████████| 2/2 [02:56<00:00, 88.07s/it]\n",
      "69it [45:29, 153.82s/it]"
     ]
    },
    {
     "name": "stdout",
     "output_type": "stream",
     "text": [
      "running for date 2012-09-30T00:00:00.000000000\n"
     ]
    },
    {
     "name": "stderr",
     "output_type": "stream",
     "text": []
    },
    {
     "name": "stdout",
     "output_type": "stream",
     "text": [
      "** On entry to DLASCL, parameter number  4 had an illegal value\n",
      "** On entry to DLASCL, parameter number  4 had an illegal value\n",
      "** On entry to DLASCL, parameter number  4 had an illegal value\n",
      "** On entry to DLASCL, parameter number  4 had an illegal value\n"
     ]
    },
    {
     "name": "stderr",
     "output_type": "stream",
     "text": [
      "100%|██████████| 2/2 [03:01<00:00, 90.72s/it]\n",
      "70it [48:31, 162.13s/it]"
     ]
    },
    {
     "name": "stdout",
     "output_type": "stream",
     "text": [
      "running for date 2012-10-31T00:00:00.000000000\n"
     ]
    },
    {
     "name": "stderr",
     "output_type": "stream",
     "text": []
    },
    {
     "name": "stdout",
     "output_type": "stream",
     "text": [
      "** On entry to DLASCL, parameter number  4 had an illegal value\n",
      "** On entry to DLASCL, parameter number  4 had an illegal value\n",
      "** On entry to DLASCL, parameter number  4 had an illegal value\n",
      "** On entry to DLASCL, parameter number  4 had an illegal value\n"
     ]
    },
    {
     "name": "stderr",
     "output_type": "stream",
     "text": [
      "100%|██████████| 2/2 [02:23<00:00, 71.79s/it]\n",
      "71it [50:54, 156.59s/it]"
     ]
    },
    {
     "name": "stdout",
     "output_type": "stream",
     "text": [
      "running for date 2012-11-30T00:00:00.000000000\n"
     ]
    },
    {
     "name": "stderr",
     "output_type": "stream",
     "text": []
    },
    {
     "name": "stdout",
     "output_type": "stream",
     "text": [
      "** On entry to DLASCL, parameter number  4 had an illegal value\n",
      "** On entry to DLASCL, parameter number  4 had an illegal value\n",
      "** On entry to DLASCL, parameter number  4 had an illegal value\n",
      "** On entry to DLASCL, parameter number  4 had an illegal value\n"
     ]
    },
    {
     "name": "stderr",
     "output_type": "stream",
     "text": [
      "100%|██████████| 2/2 [03:07<00:00, 93.80s/it]\n",
      "72it [54:02, 165.92s/it]"
     ]
    },
    {
     "name": "stdout",
     "output_type": "stream",
     "text": [
      "running for date 2012-12-31T00:00:00.000000000\n"
     ]
    },
    {
     "name": "stderr",
     "output_type": "stream",
     "text": []
    },
    {
     "name": "stdout",
     "output_type": "stream",
     "text": [
      "** On entry to DLASCL, parameter number  4 had an illegal value\n",
      "** On entry to DLASCL, parameter number  4 had an illegal value\n",
      "** On entry to DLASCL, parameter number  4 had an illegal value\n",
      "** On entry to DLASCL, parameter number  4 had an illegal value\n"
     ]
    },
    {
     "name": "stderr",
     "output_type": "stream",
     "text": [
      "100%|██████████| 2/2 [02:28<00:00, 74.06s/it]\n",
      "73it [56:30, 160.60s/it]"
     ]
    },
    {
     "name": "stdout",
     "output_type": "stream",
     "text": [
      "running for date 2013-01-31T00:00:00.000000000\n"
     ]
    },
    {
     "name": "stderr",
     "output_type": "stream",
     "text": []
    },
    {
     "name": "stdout",
     "output_type": "stream",
     "text": [
      "** On entry to DLASCL, parameter number  4 had an illegal value\n",
      "** On entry to DLASCL, parameter number  4 had an illegal value\n"
     ]
    },
    {
     "name": "stderr",
     "output_type": "stream",
     "text": [
      "100%|██████████| 2/2 [02:02<00:00, 61.19s/it]\n",
      "74it [58:33, 149.16s/it]"
     ]
    },
    {
     "name": "stdout",
     "output_type": "stream",
     "text": [
      "running for date 2013-02-28T00:00:00.000000000\n"
     ]
    },
    {
     "name": "stderr",
     "output_type": "stream",
     "text": []
    },
    {
     "name": "stdout",
     "output_type": "stream",
     "text": [
      "** On entry to DLASCL, parameter number  4 had an illegal value\n",
      "** On entry to DLASCL, parameter number  4 had an illegal value\n",
      "** On entry to DLASCL, parameter number  4 had an illegal value\n",
      "** On entry to DLASCL, parameter number  4 had an illegal value\n"
     ]
    },
    {
     "name": "stderr",
     "output_type": "stream",
     "text": [
      "100%|██████████| 2/2 [01:37<00:00, 48.60s/it]\n",
      "75it [1:00:10, 133.59s/it]"
     ]
    },
    {
     "name": "stdout",
     "output_type": "stream",
     "text": [
      "running for date 2013-03-31T00:00:00.000000000\n"
     ]
    },
    {
     "name": "stderr",
     "output_type": "stream",
     "text": [
      "100%|██████████| 2/2 [02:28<00:00, 74.43s/it]\n",
      "76it [1:02:39, 138.20s/it]"
     ]
    },
    {
     "name": "stdout",
     "output_type": "stream",
     "text": [
      "running for date 2013-04-30T00:00:00.000000000\n"
     ]
    },
    {
     "name": "stderr",
     "output_type": "stream",
     "text": [
      "100%|██████████| 2/2 [02:47<00:00, 83.70s/it]\n",
      "77it [1:05:26, 146.98s/it]"
     ]
    },
    {
     "name": "stdout",
     "output_type": "stream",
     "text": [
      "running for date 2013-05-31T00:00:00.000000000\n"
     ]
    },
    {
     "name": "stderr",
     "output_type": "stream",
     "text": []
    },
    {
     "name": "stdout",
     "output_type": "stream",
     "text": [
      "** On entry to DLASCL, parameter number  4 had an illegal value\n",
      "** On entry to DLASCL, parameter number  4 had an illegal value\n",
      "** On entry to DLASCL, parameter number  4 had an illegal value\n",
      "** On entry to DLASCL, parameter number  4 had an illegal value\n",
      "** On entry to DLASCL, parameter number  4 had an illegal value\n",
      "** On entry to DLASCL, parameter number  4 had an illegal value\n"
     ]
    },
    {
     "name": "stderr",
     "output_type": "stream",
     "text": [
      "100%|██████████| 2/2 [03:13<00:00, 96.90s/it]\n",
      "78it [1:08:40, 161.05s/it]"
     ]
    },
    {
     "name": "stdout",
     "output_type": "stream",
     "text": [
      "running for date 2013-06-30T00:00:00.000000000\n"
     ]
    },
    {
     "name": "stderr",
     "output_type": "stream",
     "text": []
    },
    {
     "name": "stdout",
     "output_type": "stream",
     "text": [
      "** On entry to DLASCL, parameter number  4 had an illegal value\n",
      "** On entry to DLASCL, parameter number  4 had an illegal value\n",
      "** On entry to DLASCL, parameter number  4 had an illegal value\n",
      "** On entry to DLASCL, parameter number  4 had an illegal value\n",
      "** On entry to DLASCL, parameter number  4 had an illegal value\n",
      "** On entry to DLASCL, parameter number  4 had an illegal value\n",
      "** On entry to DLASCL, parameter number  4 had an illegal value\n",
      "** On entry to DLASCL, parameter number  4 had an illegal value\n",
      "** On entry to DLASCL, parameter number  4 had an illegal value\n",
      "** On entry to DLASCL, parameter number  4 had an illegal value\n"
     ]
    },
    {
     "name": "stderr",
     "output_type": "stream",
     "text": [
      "100%|██████████| 2/2 [01:52<00:00, 56.43s/it]\n",
      "79it [1:10:33, 146.62s/it]"
     ]
    },
    {
     "name": "stdout",
     "output_type": "stream",
     "text": [
      "running for date 2013-07-31T00:00:00.000000000\n"
     ]
    },
    {
     "name": "stderr",
     "output_type": "stream",
     "text": []
    },
    {
     "name": "stdout",
     "output_type": "stream",
     "text": [
      "** On entry to DLASCL, parameter number  4 had an illegal value\n",
      "** On entry to DLASCL, parameter number  4 had an illegal value\n",
      "** On entry to DLASCL, parameter number  4 had an illegal value\n",
      "** On entry to DLASCL, parameter number  4 had an illegal value\n",
      "** On entry to DLASCL, parameter number  4 had an illegal value\n",
      "** On entry to DLASCL, parameter number  4 had an illegal value\n",
      "** On entry to DLASCL, parameter number  4 had an illegal value\n",
      "** On entry to DLASCL, parameter number  4 had an illegal value\n"
     ]
    },
    {
     "name": "stderr",
     "output_type": "stream",
     "text": [
      "100%|██████████| 2/2 [03:01<00:00, 90.62s/it]\n",
      "80it [1:13:34, 157.03s/it]"
     ]
    },
    {
     "name": "stdout",
     "output_type": "stream",
     "text": [
      "running for date 2013-08-31T00:00:00.000000000\n"
     ]
    },
    {
     "name": "stderr",
     "output_type": "stream",
     "text": []
    },
    {
     "name": "stdout",
     "output_type": "stream",
     "text": [
      "** On entry to DLASCL, parameter number  4 had an illegal value\n",
      "** On entry to DLASCL, parameter number  4 had an illegal value\n",
      "** On entry to DLASCL, parameter number  4 had an illegal value\n",
      "** On entry to DLASCL, parameter number  4 had an illegal value\n",
      "** On entry to DLASCL, parameter number  4 had an illegal value\n",
      "** On entry to DLASCL, parameter number  4 had an illegal value\n",
      "** On entry to DLASCL, parameter number  4 had an illegal value\n",
      "** On entry to DLASCL, parameter number  4 had an illegal value\n"
     ]
    },
    {
     "name": "stderr",
     "output_type": "stream",
     "text": [
      "100%|██████████| 2/2 [01:59<00:00, 59.81s/it]\n",
      "81it [1:15:34, 145.83s/it]"
     ]
    },
    {
     "name": "stdout",
     "output_type": "stream",
     "text": [
      "running for date 2013-09-30T00:00:00.000000000\n"
     ]
    },
    {
     "name": "stderr",
     "output_type": "stream",
     "text": []
    },
    {
     "name": "stdout",
     "output_type": "stream",
     "text": [
      "** On entry to DLASCL, parameter number  4 had an illegal value\n",
      "** On entry to DLASCL, parameter number  4 had an illegal value\n",
      "** On entry to DLASCL, parameter number  4 had an illegal value\n",
      "** On entry to DLASCL, parameter number  4 had an illegal value\n",
      "** On entry to DLASCL, parameter number  4 had an illegal value\n",
      "** On entry to DLASCL, parameter number  4 had an illegal value\n",
      "** On entry to DLASCL, parameter number  4 had an illegal value\n",
      "** On entry to DLASCL, parameter number  4 had an illegal value\n",
      "** On entry to DLASCL, parameter number  4 had an illegal value\n",
      "** On entry to DLASCL, parameter number  4 had an illegal value\n",
      "** On entry to DLASCL, parameter number  4 had an illegal value\n",
      "** On entry to DLASCL, parameter number  4 had an illegal value\n"
     ]
    },
    {
     "name": "stderr",
     "output_type": "stream",
     "text": [
      "100%|██████████| 2/2 [06:44<00:00, 202.10s/it]\n",
      "82it [1:22:18, 223.36s/it]"
     ]
    },
    {
     "name": "stdout",
     "output_type": "stream",
     "text": [
      "running for date 2013-10-31T00:00:00.000000000\n"
     ]
    },
    {
     "name": "stderr",
     "output_type": "stream",
     "text": []
    },
    {
     "name": "stdout",
     "output_type": "stream",
     "text": [
      "** On entry to DLASCL, parameter number  4 had an illegal value\n",
      "** On entry to DLASCL, parameter number  4 had an illegal value\n"
     ]
    },
    {
     "name": "stderr",
     "output_type": "stream",
     "text": [
      "100%|██████████| 2/2 [22:33<00:00, 676.55s/it]\n",
      "83it [1:44:52, 562.33s/it]"
     ]
    },
    {
     "name": "stdout",
     "output_type": "stream",
     "text": [
      "running for date 2013-11-30T00:00:00.000000000\n"
     ]
    },
    {
     "name": "stderr",
     "output_type": "stream",
     "text": []
    },
    {
     "name": "stdout",
     "output_type": "stream",
     "text": [
      "** On entry to DLASCL, parameter number  4 had an illegal value\n",
      "** On entry to DLASCL, parameter number  4 had an illegal value\n",
      "** On entry to DLASCL, parameter number  4 had an illegal value\n",
      "** On entry to DLASCL, parameter number  4 had an illegal value\n",
      "** On entry to DLASCL, parameter number  4 had an illegal value\n",
      "** On entry to DLASCL, parameter number  4 had an illegal value\n",
      "** On entry to DLASCL, parameter number  4 had an illegal value\n",
      "** On entry to DLASCL, parameter number  4 had an illegal value\n",
      "** On entry to DLASCL, parameter number  4 had an illegal value\n",
      "** On entry to DLASCL, parameter number  4 had an illegal value\n"
     ]
    },
    {
     "name": "stderr",
     "output_type": "stream",
     "text": [
      "100%|██████████| 2/2 [12:28<00:00, 374.41s/it]\n",
      "84it [1:57:21, 618.31s/it]"
     ]
    },
    {
     "name": "stdout",
     "output_type": "stream",
     "text": [
      "running for date 2013-12-31T00:00:00.000000000\n"
     ]
    },
    {
     "name": "stderr",
     "output_type": "stream",
     "text": []
    },
    {
     "name": "stdout",
     "output_type": "stream",
     "text": [
      "** On entry to DLASCL, parameter number  4 had an illegal value\n",
      "** On entry to DLASCL, parameter number  4 had an illegal value\n",
      "** On entry to DLASCL, parameter number  4 had an illegal value\n",
      "** On entry to DLASCL, parameter number  4 had an illegal value\n",
      "** On entry to DLASCL, parameter number  4 had an illegal value\n",
      "** On entry to DLASCL, parameter number  4 had an illegal value\n",
      "** On entry to DLASCL, parameter number  4 had an illegal value\n",
      "** On entry to DLASCL, parameter number  4 had an illegal value\n",
      "** On entry to DLASCL, parameter number  4 had an illegal value\n",
      "** On entry to DLASCL, parameter number  4 had an illegal value\n",
      "** On entry to DLASCL, parameter number  4 had an illegal value\n",
      "** On entry to DLASCL, parameter number  4 had an illegal value\n",
      "** On entry to DLASCL, parameter number  4 had an illegal value\n",
      "** On entry to DLASCL, parameter number  4 had an illegal value\n"
     ]
    },
    {
     "name": "stderr",
     "output_type": "stream",
     "text": [
      "100%|██████████| 2/2 [03:04<00:00, 92.42s/it]\n",
      "85it [2:00:26, 488.29s/it]"
     ]
    },
    {
     "name": "stdout",
     "output_type": "stream",
     "text": [
      "running for date 2014-01-31T00:00:00.000000000\n"
     ]
    },
    {
     "name": "stderr",
     "output_type": "stream",
     "text": []
    },
    {
     "name": "stdout",
     "output_type": "stream",
     "text": [
      "** On entry to DLASCL, parameter number  4 had an illegal value\n",
      "** On entry to DLASCL, parameter number  4 had an illegal value\n",
      "** On entry to DLASCL, parameter number  4 had an illegal value\n",
      "** On entry to DLASCL, parameter number  4 had an illegal value\n",
      "** On entry to DLASCL, parameter number  4 had an illegal value\n",
      "** On entry to DLASCL, parameter number  4 had an illegal value\n",
      "** On entry to DLASCL, parameter number  4 had an illegal value\n",
      "** On entry to DLASCL, parameter number  4 had an illegal value\n",
      "** On entry to DLASCL, parameter number  4 had an illegal value\n",
      "** On entry to DLASCL, parameter number  4 had an illegal value\n",
      "** On entry to DLASCL, parameter number  4 had an illegal value\n",
      "** On entry to DLASCL, parameter number  4 had an illegal value\n",
      "** On entry to DLASCL, parameter number  4 had an illegal value\n",
      "** On entry to DLASCL, parameter number  4 had an illegal value\n"
     ]
    },
    {
     "name": "stderr",
     "output_type": "stream",
     "text": [
      "100%|██████████| 2/2 [03:03<00:00, 91.50s/it]\n",
      "86it [2:03:29, 396.73s/it]"
     ]
    },
    {
     "name": "stdout",
     "output_type": "stream",
     "text": [
      "running for date 2014-02-28T00:00:00.000000000\n"
     ]
    },
    {
     "name": "stderr",
     "output_type": "stream",
     "text": []
    },
    {
     "name": "stdout",
     "output_type": "stream",
     "text": [
      "** On entry to DLASCL, parameter number  4 had an illegal value\n",
      "** On entry to DLASCL, parameter number  4 had an illegal value\n",
      "** On entry to DLASCL, parameter number  4 had an illegal value\n",
      "** On entry to DLASCL, parameter number  4 had an illegal value\n",
      "** On entry to DLASCL, parameter number  4 had an illegal value\n",
      "** On entry to DLASCL, parameter number  4 had an illegal value\n",
      "** On entry to DLASCL, parameter number  4 had an illegal value\n",
      "** On entry to DLASCL, parameter number  4 had an illegal value\n",
      "** On entry to DLASCL, parameter number  4 had an illegal value\n",
      "** On entry to DLASCL, parameter number  4 had an illegal value\n"
     ]
    },
    {
     "name": "stderr",
     "output_type": "stream",
     "text": [
      "100%|██████████| 2/2 [02:27<00:00, 73.60s/it]\n",
      "87it [2:05:56, 321.89s/it]"
     ]
    },
    {
     "name": "stdout",
     "output_type": "stream",
     "text": [
      "running for date 2014-03-31T00:00:00.000000000\n"
     ]
    },
    {
     "name": "stderr",
     "output_type": "stream",
     "text": []
    },
    {
     "name": "stdout",
     "output_type": "stream",
     "text": [
      "** On entry to DLASCL, parameter number  4 had an illegal value\n",
      "** On entry to DLASCL, parameter number  4 had an illegal value\n",
      "** On entry to DLASCL, parameter number  4 had an illegal value\n",
      "** On entry to DLASCL, parameter number  4 had an illegal value\n",
      "** On entry to DLASCL, parameter number  4 had an illegal value\n",
      "** On entry to DLASCL, parameter number  4 had an illegal value\n",
      "** On entry to DLASCL, parameter number  4 had an illegal value\n",
      "** On entry to DLASCL, parameter number  4 had an illegal value\n",
      "** On entry to DLASCL, parameter number  4 had an illegal value\n",
      "** On entry to DLASCL, parameter number  4 had an illegal value\n",
      "** On entry to DLASCL, parameter number  4 had an illegal value\n",
      "** On entry to DLASCL, parameter number  4 had an illegal value\n",
      "** On entry to DLASCL, parameter number  4 had an illegal value\n",
      "** On entry to DLASCL, parameter number  4 had an illegal value\n",
      "** On entry to DLASCL, parameter number  4 had an illegal value\n",
      "** On entry to DLASCL, parameter number  4 had an illegal value\n"
     ]
    },
    {
     "name": "stderr",
     "output_type": "stream",
     "text": [
      "100%|██████████| 2/2 [03:02<00:00, 91.40s/it]\n",
      "88it [2:08:59, 280.18s/it]"
     ]
    },
    {
     "name": "stdout",
     "output_type": "stream",
     "text": [
      "running for date 2014-04-30T00:00:00.000000000\n"
     ]
    },
    {
     "name": "stderr",
     "output_type": "stream",
     "text": []
    },
    {
     "name": "stdout",
     "output_type": "stream",
     "text": [
      "** On entry to DLASCL, parameter number  4 had an illegal value\n",
      "** On entry to DLASCL, parameter number  4 had an illegal value\n",
      "** On entry to DLASCL, parameter number  4 had an illegal value\n",
      "** On entry to DLASCL, parameter number  4 had an illegal value\n",
      "** On entry to DLASCL, parameter number  4 had an illegal value\n",
      "** On entry to DLASCL, parameter number  4 had an illegal value\n",
      "** On entry to DLASCL, parameter number  4 had an illegal value\n",
      "** On entry to DLASCL, parameter number  4 had an illegal value\n",
      "** On entry to DLASCL, parameter number  4 had an illegal value\n",
      "** On entry to DLASCL, parameter number  4 had an illegal value\n",
      "** On entry to DLASCL, parameter number  4 had an illegal value\n",
      "** On entry to DLASCL, parameter number  4 had an illegal value\n",
      "** On entry to DLASCL, parameter number  4 had an illegal value\n",
      "** On entry to DLASCL, parameter number  4 had an illegal value\n",
      "** On entry to DLASCL, parameter number  4 had an illegal value\n",
      "** On entry to DLASCL, parameter number  4 had an illegal value\n"
     ]
    },
    {
     "name": "stderr",
     "output_type": "stream",
     "text": [
      "100%|██████████| 2/2 [03:03<00:00, 91.55s/it]\n",
      "89it [2:12:02, 251.08s/it]"
     ]
    },
    {
     "name": "stdout",
     "output_type": "stream",
     "text": [
      "running for date 2014-05-31T00:00:00.000000000\n"
     ]
    },
    {
     "name": "stderr",
     "output_type": "stream",
     "text": []
    },
    {
     "name": "stdout",
     "output_type": "stream",
     "text": [
      "** On entry to DLASCL, parameter number  4 had an illegal value\n",
      "** On entry to DLASCL, parameter number  4 had an illegal value\n",
      "** On entry to DLASCL, parameter number  4 had an illegal value\n",
      "** On entry to DLASCL, parameter number  4 had an illegal value\n",
      "** On entry to DLASCL, parameter number  4 had an illegal value\n",
      "** On entry to DLASCL, parameter number  4 had an illegal value\n",
      "** On entry to DLASCL, parameter number  4 had an illegal value\n",
      "** On entry to DLASCL, parameter number  4 had an illegal value\n",
      "** On entry to DLASCL, parameter number  4 had an illegal value\n",
      "** On entry to DLASCL, parameter number  4 had an illegal value\n",
      "** On entry to DLASCL, parameter number  4 had an illegal value\n",
      "** On entry to DLASCL, parameter number  4 had an illegal value\n",
      "** On entry to DLASCL, parameter number  4 had an illegal value\n",
      "** On entry to DLASCL, parameter number  4 had an illegal value\n",
      "** On entry to DLASCL, parameter number  4 had an illegal value\n",
      "** On entry to DLASCL, parameter number  4 had an illegal value\n"
     ]
    },
    {
     "name": "stderr",
     "output_type": "stream",
     "text": [
      "100%|██████████| 2/2 [02:58<00:00, 89.36s/it]\n",
      "90it [2:15:01, 229.40s/it]"
     ]
    },
    {
     "name": "stdout",
     "output_type": "stream",
     "text": [
      "running for date 2014-06-30T00:00:00.000000000\n"
     ]
    },
    {
     "name": "stderr",
     "output_type": "stream",
     "text": []
    },
    {
     "name": "stdout",
     "output_type": "stream",
     "text": [
      "** On entry to DLASCL, parameter number  4 had an illegal value\n",
      "** On entry to DLASCL, parameter number  4 had an illegal value\n",
      "** On entry to DLASCL, parameter number  4 had an illegal value\n",
      "** On entry to DLASCL, parameter number  4 had an illegal value\n",
      "** On entry to DLASCL, parameter number  4 had an illegal value\n",
      "** On entry to DLASCL, parameter number  4 had an illegal value\n",
      "** On entry to DLASCL, parameter number  4 had an illegal value\n",
      "** On entry to DLASCL, parameter number  4 had an illegal value\n",
      "** On entry to DLASCL, parameter number  4 had an illegal value\n",
      "** On entry to DLASCL, parameter number  4 had an illegal value\n",
      "** On entry to DLASCL, parameter number  4 had an illegal value\n",
      "** On entry to DLASCL, parameter number  4 had an illegal value\n",
      "** On entry to DLASCL, parameter number  4 had an illegal value\n",
      "** On entry to DLASCL, parameter number  4 had an illegal value\n",
      "** On entry to DLASCL, parameter number  4 had an illegal value\n",
      "** On entry to DLASCL, parameter number  4 had an illegal value\n"
     ]
    },
    {
     "name": "stderr",
     "output_type": "stream",
     "text": [
      "100%|██████████| 2/2 [03:00<00:00, 90.16s/it]\n",
      "91it [2:18:01, 214.70s/it]"
     ]
    },
    {
     "name": "stdout",
     "output_type": "stream",
     "text": [
      "running for date 2014-07-31T00:00:00.000000000\n"
     ]
    },
    {
     "name": "stderr",
     "output_type": "stream",
     "text": [
      "100%|██████████| 2/2 [00:20<00:00, 10.27s/it]\n",
      "92it [2:18:22, 156.48s/it]"
     ]
    },
    {
     "name": "stdout",
     "output_type": "stream",
     "text": [
      "running for date 2014-08-31T00:00:00.000000000\n"
     ]
    },
    {
     "name": "stderr",
     "output_type": "stream",
     "text": []
    },
    {
     "name": "stdout",
     "output_type": "stream",
     "text": [
      "** On entry to DLASCL, parameter number  4 had an illegal value\n",
      "** On entry to DLASCL, parameter number  4 had an illegal value\n",
      "** On entry to DLASCL, parameter number  4 had an illegal value\n",
      "** On entry to DLASCL, parameter number  4 had an illegal value\n",
      "** On entry to DLASCL, parameter number  4 had an illegal value\n",
      "** On entry to DLASCL, parameter number  4 had an illegal value\n",
      "** On entry to DLASCL, parameter number  4 had an illegal value\n",
      "** On entry to DLASCL, parameter number  4 had an illegal value\n",
      "** On entry to DLASCL, parameter number  4 had an illegal value\n",
      "** On entry to DLASCL, parameter number  4 had an illegal value\n",
      "** On entry to DLASCL, parameter number  4 had an illegal value\n",
      "** On entry to DLASCL, parameter number  4 had an illegal value\n",
      "** On entry to DLASCL, parameter number  4 had an illegal value\n",
      "** On entry to DLASCL, parameter number  4 had an illegal value\n",
      "** On entry to DLASCL, parameter number  4 had an illegal value\n",
      "** On entry to DLASCL, parameter number  4 had an illegal value\n"
     ]
    },
    {
     "name": "stderr",
     "output_type": "stream",
     "text": [
      "100%|██████████| 2/2 [03:04<00:00, 92.33s/it]\n",
      "93it [2:21:26, 164.96s/it]"
     ]
    },
    {
     "name": "stdout",
     "output_type": "stream",
     "text": [
      "running for date 2014-09-30T00:00:00.000000000\n"
     ]
    },
    {
     "name": "stderr",
     "output_type": "stream",
     "text": []
    },
    {
     "name": "stdout",
     "output_type": "stream",
     "text": [
      "** On entry to DLASCL, parameter number  4 had an illegal value\n",
      "** On entry to DLASCL, parameter number  4 had an illegal value\n",
      "** On entry to DLASCL, parameter number  4 had an illegal value\n",
      "** On entry to DLASCL, parameter number  4 had an illegal value\n",
      "** On entry to DLASCL, parameter number  4 had an illegal value\n",
      "** On entry to DLASCL, parameter number  4 had an illegal value\n",
      "** On entry to DLASCL, parameter number  4 had an illegal value\n",
      "** On entry to DLASCL, parameter number  4 had an illegal value\n"
     ]
    },
    {
     "name": "stderr",
     "output_type": "stream",
     "text": [
      "100%|██████████| 2/2 [02:17<00:00, 68.74s/it]\n",
      "94it [2:23:44, 156.74s/it]"
     ]
    },
    {
     "name": "stdout",
     "output_type": "stream",
     "text": [
      "running for date 2014-10-31T00:00:00.000000000\n"
     ]
    },
    {
     "name": "stderr",
     "output_type": "stream",
     "text": []
    },
    {
     "name": "stdout",
     "output_type": "stream",
     "text": [
      "** On entry to DLASCL, parameter number  4 had an illegal value\n",
      "** On entry to DLASCL, parameter number  4 had an illegal value\n",
      "** On entry to DLASCL, parameter number  4 had an illegal value\n",
      "** On entry to DLASCL, parameter number  4 had an illegal value\n",
      "** On entry to DLASCL, parameter number  4 had an illegal value\n",
      "** On entry to DLASCL, parameter number  4 had an illegal value\n",
      "** On entry to DLASCL, parameter number  4 had an illegal value\n",
      "** On entry to DLASCL, parameter number  4 had an illegal value\n",
      "** On entry to DLASCL, parameter number  4 had an illegal value\n",
      "** On entry to DLASCL, parameter number  4 had an illegal value\n"
     ]
    },
    {
     "name": "stderr",
     "output_type": "stream",
     "text": [
      "100%|██████████| 2/2 [02:24<00:00, 72.32s/it]\n",
      "95it [2:26:09, 153.13s/it]"
     ]
    },
    {
     "name": "stdout",
     "output_type": "stream",
     "text": [
      "running for date 2014-11-30T00:00:00.000000000\n"
     ]
    },
    {
     "name": "stderr",
     "output_type": "stream",
     "text": []
    },
    {
     "name": "stdout",
     "output_type": "stream",
     "text": [
      "** On entry to DLASCL, parameter number  4 had an illegal value\n",
      "** On entry to DLASCL, parameter number  4 had an illegal value\n",
      "** On entry to DLASCL, parameter number  4 had an illegal value\n",
      "** On entry to DLASCL, parameter number  4 had an illegal value\n",
      "** On entry to DLASCL, parameter number  4 had an illegal value\n",
      "** On entry to DLASCL, parameter number  4 had an illegal value\n",
      "** On entry to DLASCL, parameter number  4 had an illegal value\n",
      "** On entry to DLASCL, parameter number  4 had an illegal value\n",
      "** On entry to DLASCL, parameter number  4 had an illegal value\n",
      "** On entry to DLASCL, parameter number  4 had an illegal value\n",
      "** On entry to DLASCL, parameter number  4 had an illegal value\n",
      "** On entry to DLASCL, parameter number  4 had an illegal value\n",
      "** On entry to DLASCL, parameter number  4 had an illegal value\n",
      "** On entry to DLASCL, parameter number  4 had an illegal value\n",
      "** On entry to DLASCL, parameter number  4 had an illegal value\n",
      "** On entry to DLASCL, parameter number  4 had an illegal value\n"
     ]
    },
    {
     "name": "stderr",
     "output_type": "stream",
     "text": [
      "100%|██████████| 2/2 [02:51<00:00, 85.73s/it]\n",
      "96it [2:29:00, 158.65s/it]"
     ]
    },
    {
     "name": "stdout",
     "output_type": "stream",
     "text": [
      "running for date 2014-12-31T00:00:00.000000000\n"
     ]
    },
    {
     "name": "stderr",
     "output_type": "stream",
     "text": []
    },
    {
     "name": "stdout",
     "output_type": "stream",
     "text": [
      "** On entry to DLASCL, parameter number  4 had an illegal value\n",
      "** On entry to DLASCL, parameter number  4 had an illegal value\n",
      "** On entry to DLASCL, parameter number  4 had an illegal value\n",
      "** On entry to DLASCL, parameter number  4 had an illegal value\n",
      "** On entry to DLASCL, parameter number  4 had an illegal value\n",
      "** On entry to DLASCL, parameter number  4 had an illegal value\n",
      "** On entry to DLASCL, parameter number  4 had an illegal value\n",
      "** On entry to DLASCL, parameter number  4 had an illegal value\n",
      "** On entry to DLASCL, parameter number  4 had an illegal value\n",
      "** On entry to DLASCL, parameter number  4 had an illegal value\n",
      "** On entry to DLASCL, parameter number  4 had an illegal value\n",
      "** On entry to DLASCL, parameter number  4 had an illegal value\n",
      "** On entry to DLASCL, parameter number  4 had an illegal value\n",
      "** On entry to DLASCL, parameter number  4 had an illegal value\n",
      "** On entry to DLASCL, parameter number  4 had an illegal value\n",
      "** On entry to DLASCL, parameter number  4 had an illegal value\n",
      "** On entry to DLASCL, parameter number  4 had an illegal value\n",
      "** On entry to DLASCL, parameter number  4 had an illegal value\n"
     ]
    },
    {
     "name": "stderr",
     "output_type": "stream",
     "text": [
      "100%|██████████| 2/2 [02:59<00:00, 89.51s/it]\n",
      "97it [2:31:59, 164.79s/it]"
     ]
    },
    {
     "name": "stdout",
     "output_type": "stream",
     "text": [
      "running for date 2015-01-31T00:00:00.000000000\n"
     ]
    },
    {
     "name": "stderr",
     "output_type": "stream",
     "text": []
    },
    {
     "name": "stdout",
     "output_type": "stream",
     "text": [
      "** On entry to DLASCL, parameter number  4 had an illegal value\n",
      "** On entry to DLASCL, parameter number  4 had an illegal value\n",
      "** On entry to DLASCL, parameter number  4 had an illegal value\n",
      "** On entry to DLASCL, parameter number  4 had an illegal value\n",
      "** On entry to DLASCL, parameter number  4 had an illegal value\n",
      "** On entry to DLASCL, parameter number  4 had an illegal value\n",
      "** On entry to DLASCL, parameter number  4 had an illegal value\n",
      "** On entry to DLASCL, parameter number  4 had an illegal value\n",
      "** On entry to DLASCL, parameter number  4 had an illegal value\n",
      "** On entry to DLASCL, parameter number  4 had an illegal value\n",
      "** On entry to DLASCL, parameter number  4 had an illegal value\n",
      "** On entry to DLASCL, parameter number  4 had an illegal value\n"
     ]
    },
    {
     "name": "stderr",
     "output_type": "stream",
     "text": [
      "100%|██████████| 2/2 [02:36<00:00, 78.28s/it]\n",
      "98it [2:34:36, 162.34s/it]"
     ]
    },
    {
     "name": "stdout",
     "output_type": "stream",
     "text": [
      "running for date 2015-02-28T00:00:00.000000000\n"
     ]
    },
    {
     "name": "stderr",
     "output_type": "stream",
     "text": []
    },
    {
     "name": "stdout",
     "output_type": "stream",
     "text": [
      "** On entry to DLASCL, parameter number  4 had an illegal value\n",
      "** On entry to DLASCL, parameter number  4 had an illegal value\n",
      "** On entry to DLASCL, parameter number  4 had an illegal value\n",
      "** On entry to DLASCL, parameter number  4 had an illegal value\n",
      "** On entry to DLASCL, parameter number  4 had an illegal value\n",
      "** On entry to DLASCL, parameter number  4 had an illegal value\n",
      "** On entry to DLASCL, parameter number  4 had an illegal value\n",
      "** On entry to DLASCL, parameter number  4 had an illegal value\n"
     ]
    },
    {
     "name": "stderr",
     "output_type": "stream",
     "text": [
      "100%|██████████| 2/2 [02:31<00:00, 75.54s/it]\n",
      "99it [2:37:07, 158.99s/it]"
     ]
    },
    {
     "name": "stdout",
     "output_type": "stream",
     "text": [
      "running for date 2015-03-31T00:00:00.000000000\n"
     ]
    },
    {
     "name": "stderr",
     "output_type": "stream",
     "text": []
    },
    {
     "name": "stdout",
     "output_type": "stream",
     "text": [
      "** On entry to DLASCL, parameter number  4 had an illegal value\n",
      "** On entry to DLASCL, parameter number  4 had an illegal value\n"
     ]
    },
    {
     "name": "stderr",
     "output_type": "stream",
     "text": []
    },
    {
     "name": "stdout",
     "output_type": "stream",
     "text": [
      "** On entry to DLASCL, parameter number  4 had an illegal value\n",
      "** On entry to DLASCL, parameter number  4 had an illegal value\n"
     ]
    },
    {
     "name": "stderr",
     "output_type": "stream",
     "text": [
      "100%|██████████| 2/2 [00:15<00:00,  7.68s/it]\n",
      "100it [2:37:23, 115.91s/it]"
     ]
    },
    {
     "name": "stdout",
     "output_type": "stream",
     "text": [
      "running for date 2015-04-30T00:00:00.000000000\n"
     ]
    },
    {
     "name": "stderr",
     "output_type": "stream",
     "text": []
    },
    {
     "name": "stdout",
     "output_type": "stream",
     "text": [
      "** On entry to DLASCL, parameter number  4 had an illegal value\n",
      "** On entry to DLASCL, parameter number  4 had an illegal value\n"
     ]
    },
    {
     "name": "stderr",
     "output_type": "stream",
     "text": [
      "100%|██████████| 2/2 [01:20<00:00, 40.14s/it]\n",
      "101it [2:38:43, 105.24s/it]"
     ]
    },
    {
     "name": "stdout",
     "output_type": "stream",
     "text": [
      "running for date 2015-05-31T00:00:00.000000000\n"
     ]
    },
    {
     "name": "stderr",
     "output_type": "stream",
     "text": []
    },
    {
     "name": "stdout",
     "output_type": "stream",
     "text": [
      "** On entry to DLASCL, parameter number  4 had an illegal value\n",
      "** On entry to DLASCL, parameter number  4 had an illegal value\n",
      "** On entry to DLASCL, parameter number  4 had an illegal value\n",
      "** On entry to DLASCL, parameter number  4 had an illegal value\n",
      "** On entry to DLASCL, parameter number  4 had an illegal value\n",
      "** On entry to DLASCL, parameter number  4 had an illegal value\n",
      "** On entry to DLASCL, parameter number  4 had an illegal value\n",
      "** On entry to DLASCL, parameter number  4 had an illegal value\n",
      "** On entry to DLASCL, parameter number  4 had an illegal value\n",
      "** On entry to DLASCL, parameter number  4 had an illegal value\n",
      "** On entry to DLASCL, parameter number  4 had an illegal value\n",
      "** On entry to DLASCL, parameter number  4 had an illegal value\n",
      "** On entry to DLASCL, parameter number  4 had an illegal value\n",
      "** On entry to DLASCL, parameter number  4 had an illegal value\n",
      "** On entry to DLASCL, parameter number  4 had an illegal value\n",
      "** On entry to DLASCL, parameter number  4 had an illegal value\n",
      "** On entry to DLASCL, parameter number  4 had an illegal value\n",
      "** On entry to DLASCL, parameter number  4 had an illegal value\n"
     ]
    },
    {
     "name": "stderr",
     "output_type": "stream",
     "text": [
      "100%|██████████| 2/2 [02:49<00:00, 84.54s/it]\n",
      "102it [2:41:32, 124.41s/it]"
     ]
    },
    {
     "name": "stdout",
     "output_type": "stream",
     "text": [
      "running for date 2015-06-30T00:00:00.000000000\n"
     ]
    },
    {
     "name": "stderr",
     "output_type": "stream",
     "text": []
    },
    {
     "name": "stdout",
     "output_type": "stream",
     "text": [
      "** On entry to DLASCL, parameter number  4 had an illegal value\n",
      "** On entry to DLASCL, parameter number  4 had an illegal value\n",
      "** On entry to DLASCL, parameter number  4 had an illegal value\n",
      "** On entry to DLASCL, parameter number  4 had an illegal value\n",
      "** On entry to DLASCL, parameter number  4 had an illegal value\n",
      "** On entry to DLASCL, parameter number  4 had an illegal value\n",
      "** On entry to DLASCL, parameter number  4 had an illegal value\n",
      "** On entry to DLASCL, parameter number  4 had an illegal value\n",
      "** On entry to DLASCL, parameter number  4 had an illegal value\n",
      "** On entry to DLASCL, parameter number  4 had an illegal value\n",
      "** On entry to DLASCL, parameter number  4 had an illegal value\n",
      "** On entry to DLASCL, parameter number  4 had an illegal value\n",
      "** On entry to DLASCL, parameter number  4 had an illegal value\n",
      "** On entry to DLASCL, parameter number  4 had an illegal value\n",
      "** On entry to DLASCL, parameter number  4 had an illegal value\n",
      "** On entry to DLASCL, parameter number  4 had an illegal value\n",
      "** On entry to DLASCL, parameter number  4 had an illegal value\n",
      "** On entry to DLASCL, parameter number  4 had an illegal value\n"
     ]
    },
    {
     "name": "stderr",
     "output_type": "stream",
     "text": [
      "100%|██████████| 2/2 [02:46<00:00, 83.02s/it]\n",
      "103it [2:44:18, 136.93s/it]"
     ]
    },
    {
     "name": "stdout",
     "output_type": "stream",
     "text": [
      "running for date 2015-07-31T00:00:00.000000000\n"
     ]
    },
    {
     "name": "stderr",
     "output_type": "stream",
     "text": []
    },
    {
     "name": "stdout",
     "output_type": "stream",
     "text": [
      "** On entry to DLASCL, parameter number  4 had an illegal value\n",
      "** On entry to DLASCL, parameter number  4 had an illegal value\n",
      "** On entry to DLASCL, parameter number  4 had an illegal value\n",
      "** On entry to DLASCL, parameter number  4 had an illegal value\n",
      "** On entry to DLASCL, parameter number  4 had an illegal value\n",
      "** On entry to DLASCL, parameter number  4 had an illegal value\n",
      "** On entry to DLASCL, parameter number  4 had an illegal value\n",
      "** On entry to DLASCL, parameter number  4 had an illegal value\n",
      "** On entry to DLASCL, parameter number  4 had an illegal value\n",
      "** On entry to DLASCL, parameter number  4 had an illegal value\n"
     ]
    },
    {
     "name": "stderr",
     "output_type": "stream",
     "text": [
      "100%|██████████| 2/2 [02:36<00:00, 78.12s/it]\n",
      "104it [2:46:55, 142.74s/it]"
     ]
    },
    {
     "name": "stdout",
     "output_type": "stream",
     "text": [
      "running for date 2015-08-31T00:00:00.000000000\n"
     ]
    },
    {
     "name": "stderr",
     "output_type": "stream",
     "text": []
    },
    {
     "name": "stdout",
     "output_type": "stream",
     "text": [
      "** On entry to DLASCL, parameter number  4 had an illegal value\n",
      "** On entry to DLASCL, parameter number  4 had an illegal value\n",
      "** On entry to DLASCL, parameter number  4 had an illegal value\n",
      "** On entry to DLASCL, parameter number  4 had an illegal value\n",
      "** On entry to DLASCL, parameter number  4 had an illegal value\n",
      "** On entry to DLASCL, parameter number  4 had an illegal value\n"
     ]
    },
    {
     "name": "stderr",
     "output_type": "stream",
     "text": [
      "100%|██████████| 2/2 [01:35<00:00, 47.57s/it]\n",
      "105it [2:48:30, 128.49s/it]"
     ]
    },
    {
     "name": "stdout",
     "output_type": "stream",
     "text": [
      "running for date 2015-09-30T00:00:00.000000000\n"
     ]
    },
    {
     "name": "stderr",
     "output_type": "stream",
     "text": []
    },
    {
     "name": "stdout",
     "output_type": "stream",
     "text": [
      "** On entry to DLASCL, parameter number  4 had an illegal value\n",
      "** On entry to DLASCL, parameter number  4 had an illegal value\n",
      "** On entry to DLASCL, parameter number  4 had an illegal value\n",
      "** On entry to DLASCL, parameter number  4 had an illegal value\n",
      "** On entry to DLASCL, parameter number  4 had an illegal value\n",
      "** On entry to DLASCL, parameter number  4 had an illegal value\n",
      "** On entry to DLASCL, parameter number  4 had an illegal value\n",
      "** On entry to DLASCL, parameter number  4 had an illegal value\n",
      "** On entry to DLASCL, parameter number  4 had an illegal value\n",
      "** On entry to DLASCL, parameter number  4 had an illegal value\n",
      "** On entry to DLASCL, parameter number  4 had an illegal value\n",
      "** On entry to DLASCL, parameter number  4 had an illegal value\n",
      "** On entry to DLASCL, parameter number  4 had an illegal value\n",
      "** On entry to DLASCL, parameter number  4 had an illegal value\n",
      "** On entry to DLASCL, parameter number  4 had an illegal value\n",
      "** On entry to DLASCL, parameter number  4 had an illegal value\n",
      "** On entry to DLASCL, parameter number  4 had an illegal value\n",
      "** On entry to DLASCL, parameter number  4 had an illegal value\n",
      "** On entry to DLASCL, parameter number  4 had an illegal value\n",
      "** On entry to DLASCL, parameter number  4 had an illegal value\n"
     ]
    },
    {
     "name": "stderr",
     "output_type": "stream",
     "text": [
      "100%|██████████| 2/2 [02:56<00:00, 88.20s/it]\n",
      "106it [2:51:26, 142.89s/it]"
     ]
    },
    {
     "name": "stdout",
     "output_type": "stream",
     "text": [
      "running for date 2015-10-31T00:00:00.000000000\n"
     ]
    },
    {
     "name": "stderr",
     "output_type": "stream",
     "text": []
    },
    {
     "name": "stdout",
     "output_type": "stream",
     "text": [
      "** On entry to DLASCL, parameter number  4 had an illegal value\n",
      "** On entry to DLASCL, parameter number  4 had an illegal value\n",
      "** On entry to DLASCL, parameter number  4 had an illegal value\n",
      "** On entry to DLASCL, parameter number  4 had an illegal value\n",
      "** On entry to DLASCL, parameter number  4 had an illegal value\n",
      "** On entry to DLASCL, parameter number  4 had an illegal value\n",
      "** On entry to DLASCL, parameter number  4 had an illegal value\n",
      "** On entry to DLASCL, parameter number  4 had an illegal value\n",
      "** On entry to DLASCL, parameter number  4 had an illegal value\n",
      "** On entry to DLASCL, parameter number  4 had an illegal value\n",
      "** On entry to DLASCL, parameter number  4 had an illegal value\n",
      "** On entry to DLASCL, parameter number  4 had an illegal value\n",
      "** On entry to DLASCL, parameter number  4 had an illegal value\n",
      "** On entry to DLASCL, parameter number  4 had an illegal value\n",
      "** On entry to DLASCL, parameter number  4 had an illegal value\n",
      "** On entry to DLASCL, parameter number  4 had an illegal value\n",
      "** On entry to DLASCL, parameter number  4 had an illegal value\n",
      "** On entry to DLASCL, parameter number  4 had an illegal value\n"
     ]
    },
    {
     "name": "stderr",
     "output_type": "stream",
     "text": [
      "100%|██████████| 2/2 [02:55<00:00, 87.64s/it]\n",
      "107it [2:54:22, 152.63s/it]"
     ]
    },
    {
     "name": "stdout",
     "output_type": "stream",
     "text": [
      "running for date 2015-11-30T00:00:00.000000000\n"
     ]
    },
    {
     "name": "stderr",
     "output_type": "stream",
     "text": []
    },
    {
     "name": "stdout",
     "output_type": "stream",
     "text": [
      "** On entry to DLASCL, parameter number  4 had an illegal value\n",
      "** On entry to DLASCL, parameter number  4 had an illegal value\n",
      "** On entry to DLASCL, parameter number  4 had an illegal value\n",
      "** On entry to DLASCL, parameter number  4 had an illegal value\n"
     ]
    },
    {
     "name": "stderr",
     "output_type": "stream",
     "text": [
      "100%|██████████| 2/2 [01:30<00:00, 45.11s/it]\n",
      "108it [2:55:52, 133.93s/it]"
     ]
    },
    {
     "name": "stdout",
     "output_type": "stream",
     "text": [
      "running for date 2015-12-31T00:00:00.000000000\n"
     ]
    },
    {
     "name": "stderr",
     "output_type": "stream",
     "text": []
    },
    {
     "name": "stdout",
     "output_type": "stream",
     "text": [
      "** On entry to DLASCL, parameter number  4 had an illegal value\n",
      "** On entry to DLASCL, parameter number  4 had an illegal value\n",
      "** On entry to DLASCL, parameter number  4 had an illegal value\n",
      "** On entry to DLASCL, parameter number  4 had an illegal value\n",
      "** On entry to DLASCL, parameter number  4 had an illegal value\n",
      "** On entry to DLASCL, parameter number  4 had an illegal value\n",
      "** On entry to DLASCL, parameter number  4 had an illegal value\n",
      "** On entry to DLASCL, parameter number  4 had an illegal value\n",
      "** On entry to DLASCL, parameter number  4 had an illegal value\n",
      "** On entry to DLASCL, parameter number  4 had an illegal value\n",
      "** On entry to DLASCL, parameter number  4 had an illegal value\n",
      "** On entry to DLASCL, parameter number  4 had an illegal value\n",
      "** On entry to DLASCL, parameter number  4 had an illegal value\n",
      "** On entry to DLASCL, parameter number  4 had an illegal value\n"
     ]
    },
    {
     "name": "stderr",
     "output_type": "stream",
     "text": [
      "100%|██████████| 2/2 [01:18<00:00, 39.03s/it]\n",
      "109it [2:57:10, 117.19s/it]"
     ]
    },
    {
     "name": "stdout",
     "output_type": "stream",
     "text": [
      "running for date 2016-01-31T00:00:00.000000000\n"
     ]
    },
    {
     "name": "stderr",
     "output_type": "stream",
     "text": []
    },
    {
     "name": "stdout",
     "output_type": "stream",
     "text": [
      "** On entry to DLASCL, parameter number  4 had an illegal value\n",
      "** On entry to DLASCL, parameter number  4 had an illegal value\n",
      "** On entry to DLASCL, parameter number  4 had an illegal value\n",
      "** On entry to DLASCL, parameter number  4 had an illegal value\n",
      "** On entry to DLASCL, parameter number  4 had an illegal value\n",
      "** On entry to DLASCL, parameter number  4 had an illegal value\n",
      "** On entry to DLASCL, parameter number  4 had an illegal value\n",
      "** On entry to DLASCL, parameter number  4 had an illegal value\n",
      "** On entry to DLASCL, parameter number  4 had an illegal value\n",
      "** On entry to DLASCL, parameter number  4 had an illegal value\n",
      "** On entry to DLASCL, parameter number  4 had an illegal value\n",
      "** On entry to DLASCL, parameter number  4 had an illegal value\n"
     ]
    },
    {
     "name": "stderr",
     "output_type": "stream",
     "text": [
      "100%|██████████| 2/2 [02:14<00:00, 67.03s/it]\n",
      "110it [2:59:24, 122.27s/it]"
     ]
    },
    {
     "name": "stdout",
     "output_type": "stream",
     "text": [
      "running for date 2016-02-29T00:00:00.000000000\n"
     ]
    },
    {
     "name": "stderr",
     "output_type": "stream",
     "text": []
    },
    {
     "name": "stdout",
     "output_type": "stream",
     "text": [
      "** On entry to DLASCL, parameter number  4 had an illegal value\n",
      "** On entry to DLASCL, parameter number  4 had an illegal value\n",
      "** On entry to DLASCL, parameter number  4 had an illegal value\n",
      "** On entry to DLASCL, parameter number  4 had an illegal value\n",
      "** On entry to DLASCL, parameter number  4 had an illegal value\n",
      "** On entry to DLASCL, parameter number  4 had an illegal value\n",
      "** On entry to DLASCL, parameter number  4 had an illegal value\n",
      "** On entry to DLASCL, parameter number  4 had an illegal value\n",
      "** On entry to DLASCL, parameter number  4 had an illegal value\n",
      "** On entry to DLASCL, parameter number  4 had an illegal value\n",
      "** On entry to DLASCL, parameter number  4 had an illegal value\n",
      "** On entry to DLASCL, parameter number  4 had an illegal value\n",
      "** On entry to DLASCL, parameter number  4 had an illegal value\n",
      "** On entry to DLASCL, parameter number  4 had an illegal value\n",
      "** On entry to DLASCL, parameter number  4 had an illegal value\n",
      "** On entry to DLASCL, parameter number  4 had an illegal value\n",
      "** On entry to DLASCL, parameter number  4 had an illegal value\n",
      "** On entry to DLASCL, parameter number  4 had an illegal value\n"
     ]
    },
    {
     "name": "stderr",
     "output_type": "stream",
     "text": [
      "100%|██████████| 2/2 [02:56<00:00, 88.29s/it]\n",
      "111it [3:02:21, 138.59s/it]"
     ]
    },
    {
     "name": "stdout",
     "output_type": "stream",
     "text": [
      "running for date 2016-03-31T00:00:00.000000000\n"
     ]
    },
    {
     "name": "stderr",
     "output_type": "stream",
     "text": []
    },
    {
     "name": "stdout",
     "output_type": "stream",
     "text": [
      "** On entry to DLASCL, parameter number  4 had an illegal value\n",
      "** On entry to DLASCL, parameter number  4 had an illegal value\n",
      "** On entry to DLASCL, parameter number  4 had an illegal value\n",
      "** On entry to DLASCL, parameter number  4 had an illegal value\n",
      "** On entry to DLASCL, parameter number  4 had an illegal value\n",
      "** On entry to DLASCL, parameter number  4 had an illegal value\n",
      "** On entry to DLASCL, parameter number  4 had an illegal value\n",
      "** On entry to DLASCL, parameter number  4 had an illegal value\n",
      "** On entry to DLASCL, parameter number  4 had an illegal value\n",
      "** On entry to DLASCL, parameter number  4 had an illegal value\n",
      "** On entry to DLASCL, parameter number  4 had an illegal value\n",
      "** On entry to DLASCL, parameter number  4 had an illegal value\n",
      "** On entry to DLASCL, parameter number  4 had an illegal value\n",
      "** On entry to DLASCL, parameter number  4 had an illegal value\n",
      "** On entry to DLASCL, parameter number  4 had an illegal value\n",
      "** On entry to DLASCL, parameter number  4 had an illegal value\n"
     ]
    },
    {
     "name": "stderr",
     "output_type": "stream",
     "text": []
    },
    {
     "name": "stdout",
     "output_type": "stream",
     "text": [
      "** On entry to DLASCL, parameter number  4 had an illegal value\n",
      "** On entry to DLASCL, parameter number  4 had an illegal value\n"
     ]
    },
    {
     "name": "stderr",
     "output_type": "stream",
     "text": [
      "100%|██████████| 2/2 [01:10<00:00, 35.43s/it]\n",
      "112it [3:03:32, 118.29s/it]"
     ]
    },
    {
     "name": "stdout",
     "output_type": "stream",
     "text": [
      "running for date 2016-04-30T00:00:00.000000000\n"
     ]
    },
    {
     "name": "stderr",
     "output_type": "stream",
     "text": []
    },
    {
     "name": "stdout",
     "output_type": "stream",
     "text": [
      "** On entry to DLASCL, parameter number  4 had an illegal value\n",
      "** On entry to DLASCL, parameter number  4 had an illegal value\n",
      "** On entry to DLASCL, parameter number  4 had an illegal value\n",
      "** On entry to DLASCL, parameter number  4 had an illegal value\n",
      "** On entry to DLASCL, parameter number  4 had an illegal value\n",
      "** On entry to DLASCL, parameter number  4 had an illegal value\n",
      "** On entry to DLASCL, parameter number  4 had an illegal value\n",
      "** On entry to DLASCL, parameter number  4 had an illegal value\n",
      "** On entry to DLASCL, parameter number  4 had an illegal value\n",
      "** On entry to DLASCL, parameter number  4 had an illegal value\n",
      "** On entry to DLASCL, parameter number  4 had an illegal value\n",
      "** On entry to DLASCL, parameter number  4 had an illegal value\n"
     ]
    },
    {
     "name": "stderr",
     "output_type": "stream",
     "text": []
    },
    {
     "name": "stdout",
     "output_type": "stream",
     "text": [
      "** On entry to DLASCL, parameter number  4 had an illegal value\n",
      "** On entry to DLASCL, parameter number  4 had an illegal value\n"
     ]
    },
    {
     "name": "stderr",
     "output_type": "stream",
     "text": [
      "100%|██████████| 2/2 [02:09<00:00, 64.73s/it]\n",
      "113it [3:05:41, 121.65s/it]"
     ]
    },
    {
     "name": "stdout",
     "output_type": "stream",
     "text": [
      "running for date 2016-05-31T00:00:00.000000000\n"
     ]
    },
    {
     "name": "stderr",
     "output_type": "stream",
     "text": []
    },
    {
     "name": "stdout",
     "output_type": "stream",
     "text": [
      "** On entry to DLASCL, parameter number  4 had an illegal value\n",
      "** On entry to DLASCL, parameter number  4 had an illegal value\n",
      "** On entry to DLASCL, parameter number  4 had an illegal value\n",
      "** On entry to DLASCL, parameter number  4 had an illegal value\n",
      "** On entry to DLASCL, parameter number  4 had an illegal value\n",
      "** On entry to DLASCL, parameter number  4 had an illegal value\n",
      "** On entry to DLASCL, parameter number  4 had an illegal value\n",
      "** On entry to DLASCL, parameter number  4 had an illegal value\n",
      "** On entry to DLASCL, parameter number  4 had an illegal value\n",
      "** On entry to DLASCL, parameter number  4 had an illegal value\n",
      "** On entry to DLASCL, parameter number  4 had an illegal value\n",
      "** On entry to DLASCL, parameter number  4 had an illegal value\n",
      "** On entry to DLASCL, parameter number  4 had an illegal value\n",
      "** On entry to DLASCL, parameter number  4 had an illegal value\n",
      "** On entry to DLASCL, parameter number  4 had an illegal value\n",
      "** On entry to DLASCL, parameter number  4 had an illegal value\n"
     ]
    },
    {
     "name": "stderr",
     "output_type": "stream",
     "text": []
    },
    {
     "name": "stdout",
     "output_type": "stream",
     "text": [
      "** On entry to DLASCL, parameter number  4 had an illegal value\n",
      "** On entry to DLASCL, parameter number  4 had an illegal value\n"
     ]
    },
    {
     "name": "stderr",
     "output_type": "stream",
     "text": [
      "100%|██████████| 2/2 [01:10<00:00, 35.42s/it]\n",
      "114it [3:06:52, 106.43s/it]"
     ]
    },
    {
     "name": "stdout",
     "output_type": "stream",
     "text": [
      "running for date 2016-06-30T00:00:00.000000000\n"
     ]
    },
    {
     "name": "stderr",
     "output_type": "stream",
     "text": []
    },
    {
     "name": "stdout",
     "output_type": "stream",
     "text": [
      "** On entry to DLASCL, parameter number  4 had an illegal value\n",
      "** On entry to DLASCL, parameter number  4 had an illegal value\n"
     ]
    },
    {
     "name": "stderr",
     "output_type": "stream",
     "text": []
    },
    {
     "name": "stdout",
     "output_type": "stream",
     "text": [
      "** On entry to DLASCL, parameter number  4 had an illegal value\n",
      "** On entry to DLASCL, parameter number  4 had an illegal value\n"
     ]
    },
    {
     "name": "stderr",
     "output_type": "stream",
     "text": [
      "100%|██████████| 2/2 [01:28<00:00, 44.01s/it]\n",
      "115it [3:08:20, 100.93s/it]"
     ]
    },
    {
     "name": "stdout",
     "output_type": "stream",
     "text": [
      "running for date 2016-07-31T00:00:00.000000000\n"
     ]
    },
    {
     "name": "stderr",
     "output_type": "stream",
     "text": []
    },
    {
     "name": "stdout",
     "output_type": "stream",
     "text": [
      "** On entry to DLASCL, parameter number  4 had an illegal value\n",
      "** On entry to DLASCL, parameter number  4 had an illegal value\n",
      "** On entry to DLASCL, parameter number  4 had an illegal value\n",
      "** On entry to DLASCL, parameter number  4 had an illegal value\n"
     ]
    },
    {
     "name": "stderr",
     "output_type": "stream",
     "text": []
    },
    {
     "name": "stdout",
     "output_type": "stream",
     "text": [
      "** On entry to DLASCL, parameter number  4 had an illegal value\n",
      "** On entry to DLASCL, parameter number  4 had an illegal value\n"
     ]
    },
    {
     "name": "stderr",
     "output_type": "stream",
     "text": [
      "100%|██████████| 2/2 [01:36<00:00, 48.00s/it]\n",
      "116it [3:09:56, 99.47s/it] "
     ]
    },
    {
     "name": "stdout",
     "output_type": "stream",
     "text": [
      "running for date 2016-08-31T00:00:00.000000000\n"
     ]
    },
    {
     "name": "stderr",
     "output_type": "stream",
     "text": []
    },
    {
     "name": "stdout",
     "output_type": "stream",
     "text": [
      "** On entry to DLASCL, parameter number  4 had an illegal value\n",
      "** On entry to DLASCL, parameter number  4 had an illegal value\n",
      "** On entry to DLASCL, parameter number  4 had an illegal value\n",
      "** On entry to DLASCL, parameter number  4 had an illegal value\n"
     ]
    },
    {
     "name": "stderr",
     "output_type": "stream",
     "text": []
    },
    {
     "name": "stdout",
     "output_type": "stream",
     "text": [
      "** On entry to DLASCL, parameter number  4 had an illegal value\n",
      "** On entry to DLASCL, parameter number  4 had an illegal value\n"
     ]
    },
    {
     "name": "stderr",
     "output_type": "stream",
     "text": [
      "100%|██████████| 2/2 [01:37<00:00, 48.60s/it]\n",
      "117it [3:11:34, 98.81s/it]"
     ]
    },
    {
     "name": "stdout",
     "output_type": "stream",
     "text": [
      "running for date 2016-09-30T00:00:00.000000000\n"
     ]
    },
    {
     "name": "stderr",
     "output_type": "stream",
     "text": []
    },
    {
     "name": "stdout",
     "output_type": "stream",
     "text": [
      "** On entry to DLASCL, parameter number  4 had an illegal value\n",
      "** On entry to DLASCL, parameter number  4 had an illegal value\n"
     ]
    },
    {
     "name": "stderr",
     "output_type": "stream",
     "text": [
      "100%|██████████| 2/2 [00:12<00:00,  6.25s/it]\n",
      "118it [3:11:46, 72.93s/it]"
     ]
    },
    {
     "name": "stdout",
     "output_type": "stream",
     "text": [
      "running for date 2016-10-31T00:00:00.000000000\n"
     ]
    },
    {
     "name": "stderr",
     "output_type": "stream",
     "text": [
      "100%|██████████| 2/2 [01:27<00:00, 43.79s/it]\n",
      "119it [3:13:14, 77.34s/it]"
     ]
    },
    {
     "name": "stdout",
     "output_type": "stream",
     "text": [
      "running for date 2016-11-30T00:00:00.000000000\n"
     ]
    },
    {
     "name": "stderr",
     "output_type": "stream",
     "text": []
    },
    {
     "name": "stdout",
     "output_type": "stream",
     "text": [
      "** On entry to DLASCL, parameter number  4 had an illegal value\n",
      "** On entry to DLASCL, parameter number  4 had an illegal value\n"
     ]
    },
    {
     "name": "stderr",
     "output_type": "stream",
     "text": [
      "100%|██████████| 2/2 [01:36<00:00, 48.32s/it]\n",
      "120it [3:14:50, 83.15s/it]"
     ]
    },
    {
     "name": "stdout",
     "output_type": "stream",
     "text": [
      "running for date 2016-12-31T00:00:00.000000000\n"
     ]
    },
    {
     "name": "stderr",
     "output_type": "stream",
     "text": []
    },
    {
     "name": "stdout",
     "output_type": "stream",
     "text": [
      "** On entry to DLASCL, parameter number  4 had an illegal value\n",
      "** On entry to DLASCL, parameter number  4 had an illegal value\n",
      "** On entry to DLASCL, parameter number  4 had an illegal value\n",
      "** On entry to DLASCL, parameter number  4 had an illegal value\n",
      "** On entry to DLASCL, parameter number  4 had an illegal value\n",
      "** On entry to DLASCL, parameter number  4 had an illegal value\n",
      "** On entry to DLASCL, parameter number  4 had an illegal value\n",
      "** On entry to DLASCL, parameter number  4 had an illegal value\n",
      "** On entry to DLASCL, parameter number  4 had an illegal value\n",
      "** On entry to DLASCL, parameter number  4 had an illegal value\n"
     ]
    },
    {
     "name": "stderr",
     "output_type": "stream",
     "text": []
    },
    {
     "name": "stdout",
     "output_type": "stream",
     "text": [
      "** On entry to DLASCL, parameter number  4 had an illegal value\n",
      "** On entry to DLASCL, parameter number  4 had an illegal value\n"
     ]
    },
    {
     "name": "stderr",
     "output_type": "stream",
     "text": [
      "100%|██████████| 2/2 [02:34<00:00, 77.02s/it]\n",
      "121it [3:17:25, 104.43s/it]"
     ]
    },
    {
     "name": "stdout",
     "output_type": "stream",
     "text": [
      "running for date 2017-01-31T00:00:00.000000000\n"
     ]
    },
    {
     "name": "stderr",
     "output_type": "stream",
     "text": []
    },
    {
     "name": "stdout",
     "output_type": "stream",
     "text": [
      "** On entry to DLASCL, parameter number  4 had an illegal value\n",
      "** On entry to DLASCL, parameter number  4 had an illegal value\n"
     ]
    },
    {
     "name": "stderr",
     "output_type": "stream",
     "text": [
      "100%|██████████| 2/2 [00:10<00:00,  5.23s/it]\n",
      "122it [3:17:35, 76.26s/it] "
     ]
    },
    {
     "name": "stdout",
     "output_type": "stream",
     "text": [
      "running for date 2017-02-28T00:00:00.000000000\n"
     ]
    },
    {
     "name": "stderr",
     "output_type": "stream",
     "text": []
    },
    {
     "name": "stdout",
     "output_type": "stream",
     "text": [
      "** On entry to DLASCL, parameter number  4 had an illegal value\n",
      "** On entry to DLASCL, parameter number  4 had an illegal value\n",
      "** On entry to DLASCL, parameter number  4 had an illegal value\n",
      "** On entry to DLASCL, parameter number  4 had an illegal value\n",
      "** On entry to DLASCL, parameter number  4 had an illegal value\n",
      "** On entry to DLASCL, parameter number  4 had an illegal value\n"
     ]
    },
    {
     "name": "stderr",
     "output_type": "stream",
     "text": []
    },
    {
     "name": "stdout",
     "output_type": "stream",
     "text": [
      "** On entry to DLASCL, parameter number  4 had an illegal value\n",
      "** On entry to DLASCL, parameter number  4 had an illegal value\n"
     ]
    },
    {
     "name": "stderr",
     "output_type": "stream",
     "text": [
      "100%|██████████| 2/2 [01:46<00:00, 53.18s/it]\n",
      "123it [3:19:21, 85.30s/it]"
     ]
    },
    {
     "name": "stdout",
     "output_type": "stream",
     "text": [
      "running for date 2017-03-31T00:00:00.000000000\n"
     ]
    },
    {
     "name": "stderr",
     "output_type": "stream",
     "text": []
    },
    {
     "name": "stdout",
     "output_type": "stream",
     "text": [
      "** On entry to DLASCL, parameter number  4 had an illegal value\n",
      "** On entry to DLASCL, parameter number  4 had an illegal value\n",
      "** On entry to DLASCL, parameter number  4 had an illegal value\n",
      "** On entry to DLASCL, parameter number  4 had an illegal value\n",
      "** On entry to DLASCL, parameter number  4 had an illegal value\n",
      "** On entry to DLASCL, parameter number  4 had an illegal value\n",
      "** On entry to DLASCL, parameter number  4 had an illegal value\n",
      "** On entry to DLASCL, parameter number  4 had an illegal value\n",
      "** On entry to DLASCL, parameter number  4 had an illegal value\n",
      "** On entry to DLASCL, parameter number  4 had an illegal value\n",
      "** On entry to DLASCL, parameter number  4 had an illegal value\n",
      "** On entry to DLASCL, parameter number  4 had an illegal value\n"
     ]
    },
    {
     "name": "stderr",
     "output_type": "stream",
     "text": []
    },
    {
     "name": "stdout",
     "output_type": "stream",
     "text": [
      "** On entry to DLASCL, parameter number  4 had an illegal value\n",
      "** On entry to DLASCL, parameter number  4 had an illegal value\n"
     ]
    },
    {
     "name": "stderr",
     "output_type": "stream",
     "text": [
      "100%|██████████| 2/2 [01:12<00:00, 36.23s/it]\n",
      "124it [3:20:34, 81.47s/it]"
     ]
    },
    {
     "name": "stdout",
     "output_type": "stream",
     "text": [
      "running for date 2017-04-30T00:00:00.000000000\n"
     ]
    },
    {
     "name": "stderr",
     "output_type": "stream",
     "text": []
    },
    {
     "name": "stdout",
     "output_type": "stream",
     "text": [
      "** On entry to DLASCL, parameter number  4 had an illegal value\n",
      "** On entry to DLASCL, parameter number  4 had an illegal value\n",
      "** On entry to DLASCL, parameter number  4 had an illegal value\n",
      "** On entry to DLASCL, parameter number  4 had an illegal value\n"
     ]
    },
    {
     "name": "stderr",
     "output_type": "stream",
     "text": []
    },
    {
     "name": "stdout",
     "output_type": "stream",
     "text": [
      "** On entry to DLASCL, parameter number  4 had an illegal value\n",
      "** On entry to DLASCL, parameter number  4 had an illegal value\n"
     ]
    },
    {
     "name": "stderr",
     "output_type": "stream",
     "text": [
      "100%|██████████| 2/2 [01:39<00:00, 49.67s/it]\n",
      "125it [3:22:13, 86.85s/it]"
     ]
    },
    {
     "name": "stdout",
     "output_type": "stream",
     "text": [
      "running for date 2017-05-31T00:00:00.000000000\n"
     ]
    },
    {
     "name": "stderr",
     "output_type": "stream",
     "text": []
    },
    {
     "name": "stdout",
     "output_type": "stream",
     "text": [
      "** On entry to DLASCL, parameter number  4 had an illegal value\n",
      "** On entry to DLASCL, parameter number  4 had an illegal value\n"
     ]
    },
    {
     "name": "stderr",
     "output_type": "stream",
     "text": []
    },
    {
     "name": "stdout",
     "output_type": "stream",
     "text": [
      "** On entry to DLASCL, parameter number  4 had an illegal value\n",
      "** On entry to DLASCL, parameter number  4 had an illegal value\n"
     ]
    },
    {
     "name": "stderr",
     "output_type": "stream",
     "text": [
      "100%|██████████| 2/2 [01:40<00:00, 50.39s/it]\n",
      "126it [3:23:54, 91.05s/it]"
     ]
    },
    {
     "name": "stdout",
     "output_type": "stream",
     "text": [
      "running for date 2017-06-30T00:00:00.000000000\n"
     ]
    },
    {
     "name": "stderr",
     "output_type": "stream",
     "text": []
    },
    {
     "name": "stdout",
     "output_type": "stream",
     "text": [
      "** On entry to DLASCL, parameter number  4 had an illegal value\n",
      "** On entry to DLASCL, parameter number  4 had an illegal value\n",
      "** On entry to DLASCL, parameter number  4 had an illegal value\n",
      "** On entry to DLASCL, parameter number  4 had an illegal value\n",
      "** On entry to DLASCL, parameter number  4 had an illegal value\n",
      "** On entry to DLASCL, parameter number  4 had an illegal value\n"
     ]
    },
    {
     "name": "stderr",
     "output_type": "stream",
     "text": []
    },
    {
     "name": "stdout",
     "output_type": "stream",
     "text": [
      "** On entry to DLASCL, parameter number  4 had an illegal value\n",
      "** On entry to DLASCL, parameter number  4 had an illegal value\n"
     ]
    },
    {
     "name": "stderr",
     "output_type": "stream",
     "text": [
      "100%|██████████| 2/2 [02:20<00:00, 70.05s/it]\n",
      "127it [3:26:14, 105.78s/it]"
     ]
    },
    {
     "name": "stdout",
     "output_type": "stream",
     "text": [
      "running for date 2017-07-31T00:00:00.000000000\n"
     ]
    },
    {
     "name": "stderr",
     "output_type": "stream",
     "text": []
    },
    {
     "name": "stdout",
     "output_type": "stream",
     "text": [
      "** On entry to DLASCL, parameter number  4 had an illegal value\n",
      "** On entry to DLASCL, parameter number  4 had an illegal value\n"
     ]
    },
    {
     "name": "stderr",
     "output_type": "stream",
     "text": []
    },
    {
     "name": "stdout",
     "output_type": "stream",
     "text": [
      "** On entry to DLASCL, parameter number  4 had an illegal value\n",
      "** On entry to DLASCL, parameter number  4 had an illegal value\n"
     ]
    },
    {
     "name": "stderr",
     "output_type": "stream",
     "text": [
      "100%|██████████| 2/2 [02:00<00:00, 60.46s/it]\n",
      "128it [3:28:15, 110.34s/it]"
     ]
    },
    {
     "name": "stdout",
     "output_type": "stream",
     "text": [
      "running for date 2017-08-31T00:00:00.000000000\n"
     ]
    },
    {
     "name": "stderr",
     "output_type": "stream",
     "text": []
    },
    {
     "name": "stdout",
     "output_type": "stream",
     "text": [
      "** On entry to DLASCL, parameter number  4 had an illegal value\n",
      "** On entry to DLASCL, parameter number  4 had an illegal value\n",
      "** On entry to DLASCL, parameter number  4 had an illegal value\n",
      "** On entry to DLASCL, parameter number  4 had an illegal value\n",
      "** On entry to DLASCL, parameter number  4 had an illegal value\n",
      "** On entry to DLASCL, parameter number  4 had an illegal value\n",
      "** On entry to DLASCL, parameter number  4 had an illegal value\n",
      "** On entry to DLASCL, parameter number  4 had an illegal value\n",
      "** On entry to DLASCL, parameter number  4 had an illegal value\n",
      "** On entry to DLASCL, parameter number  4 had an illegal value\n"
     ]
    },
    {
     "name": "stderr",
     "output_type": "stream",
     "text": []
    },
    {
     "name": "stdout",
     "output_type": "stream",
     "text": [
      "** On entry to DLASCL, parameter number  4 had an illegal value\n",
      "** On entry to DLASCL, parameter number  4 had an illegal value\n"
     ]
    },
    {
     "name": "stderr",
     "output_type": "stream",
     "text": [
      "100%|██████████| 2/2 [01:33<00:00, 46.74s/it]\n",
      "129it [3:29:49, 105.30s/it]"
     ]
    },
    {
     "name": "stdout",
     "output_type": "stream",
     "text": [
      "running for date 2017-09-30T00:00:00.000000000\n"
     ]
    },
    {
     "name": "stderr",
     "output_type": "stream",
     "text": []
    },
    {
     "name": "stdout",
     "output_type": "stream",
     "text": [
      "** On entry to DLASCL, parameter number  4 had an illegal value\n",
      "** On entry to DLASCL, parameter number  4 had an illegal value\n",
      "** On entry to DLASCL, parameter number  4 had an illegal value\n",
      "** On entry to DLASCL, parameter number  4 had an illegal value\n",
      "** On entry to DLASCL, parameter number  4 had an illegal value\n",
      "** On entry to DLASCL, parameter number  4 had an illegal value\n"
     ]
    },
    {
     "name": "stderr",
     "output_type": "stream",
     "text": []
    },
    {
     "name": "stdout",
     "output_type": "stream",
     "text": [
      "** On entry to DLASCL, parameter number  4 had an illegal value\n",
      "** On entry to DLASCL, parameter number  4 had an illegal value\n"
     ]
    },
    {
     "name": "stderr",
     "output_type": "stream",
     "text": [
      "100%|██████████| 2/2 [02:04<00:00, 62.45s/it]\n",
      "130it [3:31:54, 111.20s/it]"
     ]
    },
    {
     "name": "stdout",
     "output_type": "stream",
     "text": [
      "running for date 2017-10-31T00:00:00.000000000\n"
     ]
    },
    {
     "name": "stderr",
     "output_type": "stream",
     "text": []
    },
    {
     "name": "stdout",
     "output_type": "stream",
     "text": [
      "** On entry to DLASCL, parameter number  4 had an illegal value\n",
      "** On entry to DLASCL, parameter number  4 had an illegal value\n"
     ]
    },
    {
     "name": "stderr",
     "output_type": "stream",
     "text": []
    },
    {
     "name": "stdout",
     "output_type": "stream",
     "text": [
      "** On entry to DLASCL, parameter number  4 had an illegal value\n",
      "** On entry to DLASCL, parameter number  4 had an illegal value\n"
     ]
    },
    {
     "name": "stderr",
     "output_type": "stream",
     "text": [
      "100%|██████████| 2/2 [00:34<00:00, 17.02s/it]\n",
      "131it [3:32:28, 88.07s/it] "
     ]
    },
    {
     "name": "stdout",
     "output_type": "stream",
     "text": [
      "running for date 2017-11-30T00:00:00.000000000\n"
     ]
    },
    {
     "name": "stderr",
     "output_type": "stream",
     "text": []
    },
    {
     "name": "stdout",
     "output_type": "stream",
     "text": [
      "** On entry to DLASCL, parameter number  4 had an illegal value\n",
      "** On entry to DLASCL, parameter number  4 had an illegal value\n",
      "** On entry to DLASCL, parameter number  4 had an illegal value\n",
      "** On entry to DLASCL, parameter number  4 had an illegal value\n",
      "** On entry to DLASCL, parameter number  4 had an illegal value\n",
      "** On entry to DLASCL, parameter number  4 had an illegal value\n"
     ]
    },
    {
     "name": "stderr",
     "output_type": "stream",
     "text": []
    },
    {
     "name": "stdout",
     "output_type": "stream",
     "text": [
      "** On entry to DLASCL, parameter number  4 had an illegal value\n",
      "** On entry to DLASCL, parameter number  4 had an illegal value\n"
     ]
    },
    {
     "name": "stderr",
     "output_type": "stream",
     "text": [
      "100%|██████████| 2/2 [02:28<00:00, 74.24s/it]\n",
      "132it [3:34:56, 106.21s/it]"
     ]
    },
    {
     "name": "stdout",
     "output_type": "stream",
     "text": [
      "running for date 2017-12-31T00:00:00.000000000\n"
     ]
    },
    {
     "name": "stderr",
     "output_type": "stream",
     "text": []
    },
    {
     "name": "stdout",
     "output_type": "stream",
     "text": [
      "** On entry to DLASCL, parameter number  4 had an illegal value\n",
      "** On entry to DLASCL, parameter number  4 had an illegal value\n"
     ]
    },
    {
     "name": "stderr",
     "output_type": "stream",
     "text": []
    },
    {
     "name": "stdout",
     "output_type": "stream",
     "text": [
      "** On entry to DLASCL, parameter number  4 had an illegal value\n",
      "** On entry to DLASCL, parameter number  4 had an illegal value\n"
     ]
    },
    {
     "name": "stderr",
     "output_type": "stream",
     "text": [
      "100%|██████████| 2/2 [02:13<00:00, 66.75s/it]\n",
      "133it [3:37:10, 114.41s/it]"
     ]
    },
    {
     "name": "stdout",
     "output_type": "stream",
     "text": [
      "running for date 2018-01-31T00:00:00.000000000\n"
     ]
    },
    {
     "name": "stderr",
     "output_type": "stream",
     "text": []
    },
    {
     "name": "stdout",
     "output_type": "stream",
     "text": [
      "** On entry to DLASCL, parameter number  4 had an illegal value\n",
      "** On entry to DLASCL, parameter number  4 had an illegal value\n"
     ]
    },
    {
     "name": "stderr",
     "output_type": "stream",
     "text": []
    },
    {
     "name": "stdout",
     "output_type": "stream",
     "text": [
      "** On entry to DLASCL, parameter number  4 had an illegal value\n",
      "** On entry to DLASCL, parameter number  4 had an illegal value\n"
     ]
    },
    {
     "name": "stderr",
     "output_type": "stream",
     "text": [
      "100%|██████████| 2/2 [00:35<00:00, 17.50s/it]\n",
      "134it [3:37:45, 90.62s/it] "
     ]
    },
    {
     "name": "stdout",
     "output_type": "stream",
     "text": [
      "running for date 2018-02-28T00:00:00.000000000\n"
     ]
    },
    {
     "name": "stderr",
     "output_type": "stream",
     "text": []
    },
    {
     "name": "stdout",
     "output_type": "stream",
     "text": [
      "** On entry to DLASCL, parameter number  4 had an illegal value\n",
      "** On entry to DLASCL, parameter number  4 had an illegal value\n"
     ]
    },
    {
     "name": "stderr",
     "output_type": "stream",
     "text": []
    },
    {
     "name": "stdout",
     "output_type": "stream",
     "text": [
      "** On entry to DLASCL, parameter number  4 had an illegal value\n",
      "** On entry to DLASCL, parameter number  4 had an illegal value\n"
     ]
    },
    {
     "name": "stderr",
     "output_type": "stream",
     "text": [
      "100%|██████████| 2/2 [02:37<00:00, 78.52s/it]\n",
      "135it [3:40:22, 110.57s/it]"
     ]
    },
    {
     "name": "stdout",
     "output_type": "stream",
     "text": [
      "running for date 2018-03-31T00:00:00.000000000\n"
     ]
    },
    {
     "name": "stderr",
     "output_type": "stream",
     "text": []
    },
    {
     "name": "stdout",
     "output_type": "stream",
     "text": [
      "** On entry to DLASCL, parameter number  4 had an illegal value\n",
      "** On entry to DLASCL, parameter number  4 had an illegal value\n"
     ]
    },
    {
     "name": "stderr",
     "output_type": "stream",
     "text": [
      "100%|██████████| 2/2 [01:52<00:00, 56.47s/it]\n",
      "136it [3:42:15, 111.30s/it]"
     ]
    },
    {
     "name": "stdout",
     "output_type": "stream",
     "text": [
      "running for date 2018-04-30T00:00:00.000000000\n"
     ]
    },
    {
     "name": "stderr",
     "output_type": "stream",
     "text": []
    },
    {
     "name": "stdout",
     "output_type": "stream",
     "text": [
      "** On entry to DLASCL, parameter number  4 had an illegal value\n",
      "** On entry to DLASCL, parameter number  4 had an illegal value\n"
     ]
    },
    {
     "name": "stderr",
     "output_type": "stream",
     "text": [
      "100%|██████████| 2/2 [00:47<00:00, 23.77s/it]\n",
      "137it [3:43:03, 92.20s/it] "
     ]
    },
    {
     "name": "stdout",
     "output_type": "stream",
     "text": [
      "running for date 2018-05-31T00:00:00.000000000\n"
     ]
    },
    {
     "name": "stderr",
     "output_type": "stream",
     "text": []
    },
    {
     "name": "stdout",
     "output_type": "stream",
     "text": [
      "** On entry to DLASCL, parameter number  4 had an illegal value\n",
      "** On entry to DLASCL, parameter number  4 had an illegal value\n"
     ]
    },
    {
     "name": "stderr",
     "output_type": "stream",
     "text": [
      "100%|██████████| 2/2 [00:47<00:00, 23.84s/it]\n",
      "138it [3:43:51, 78.86s/it]"
     ]
    },
    {
     "name": "stdout",
     "output_type": "stream",
     "text": [
      "running for date 2018-06-30T00:00:00.000000000\n"
     ]
    },
    {
     "name": "stderr",
     "output_type": "stream",
     "text": []
    },
    {
     "name": "stdout",
     "output_type": "stream",
     "text": [
      "** On entry to DLASCL, parameter number  4 had an illegal value\n",
      "** On entry to DLASCL, parameter number  4 had an illegal value\n"
     ]
    },
    {
     "name": "stderr",
     "output_type": "stream",
     "text": [
      "100%|██████████| 2/2 [01:49<00:00, 54.65s/it]\n",
      "139it [3:45:40, 88.01s/it]"
     ]
    },
    {
     "name": "stdout",
     "output_type": "stream",
     "text": [
      "running for date 2018-07-31T00:00:00.000000000\n"
     ]
    },
    {
     "name": "stderr",
     "output_type": "stream",
     "text": []
    },
    {
     "name": "stdout",
     "output_type": "stream",
     "text": [
      "** On entry to DLASCL, parameter number  4 had an illegal value\n",
      "** On entry to DLASCL, parameter number  4 had an illegal value\n",
      "** On entry to DLASCL, parameter number  4 had an illegal value\n",
      "** On entry to DLASCL, parameter number  4 had an illegal value\n"
     ]
    },
    {
     "name": "stderr",
     "output_type": "stream",
     "text": []
    },
    {
     "name": "stdout",
     "output_type": "stream",
     "text": [
      "** On entry to DLASCL, parameter number  4 had an illegal value\n",
      "** On entry to DLASCL, parameter number  4 had an illegal value\n"
     ]
    },
    {
     "name": "stderr",
     "output_type": "stream",
     "text": [
      "100%|██████████| 2/2 [02:37<00:00, 78.94s/it]\n",
      "140it [3:48:18, 108.99s/it]"
     ]
    },
    {
     "name": "stdout",
     "output_type": "stream",
     "text": [
      "running for date 2018-08-31T00:00:00.000000000\n"
     ]
    },
    {
     "name": "stderr",
     "output_type": "stream",
     "text": []
    },
    {
     "name": "stdout",
     "output_type": "stream",
     "text": [
      "** On entry to DLASCL, parameter number  4 had an illegal value\n",
      "** On entry to DLASCL, parameter number  4 had an illegal value\n"
     ]
    },
    {
     "name": "stderr",
     "output_type": "stream",
     "text": []
    },
    {
     "name": "stdout",
     "output_type": "stream",
     "text": [
      "** On entry to DLASCL, parameter number  4 had an illegal value\n",
      "** On entry to DLASCL, parameter number  4 had an illegal value\n"
     ]
    },
    {
     "name": "stderr",
     "output_type": "stream",
     "text": [
      "100%|██████████| 2/2 [02:42<00:00, 81.21s/it]\n",
      "141it [3:51:00, 125.04s/it]"
     ]
    },
    {
     "name": "stdout",
     "output_type": "stream",
     "text": [
      "running for date 2018-09-30T00:00:00.000000000\n"
     ]
    },
    {
     "name": "stderr",
     "output_type": "stream",
     "text": []
    },
    {
     "name": "stdout",
     "output_type": "stream",
     "text": [
      "** On entry to DLASCL, parameter number  4 had an illegal value\n",
      "** On entry to DLASCL, parameter number  4 had an illegal value\n",
      "** On entry to DLASCL, parameter number  4 had an illegal value\n",
      "** On entry to DLASCL, parameter number  4 had an illegal value\n"
     ]
    },
    {
     "name": "stderr",
     "output_type": "stream",
     "text": []
    },
    {
     "name": "stdout",
     "output_type": "stream",
     "text": [
      "** On entry to DLASCL, parameter number  4 had an illegal value\n",
      "** On entry to DLASCL, parameter number  4 had an illegal value\n"
     ]
    },
    {
     "name": "stderr",
     "output_type": "stream",
     "text": [
      "100%|██████████| 2/2 [02:01<00:00, 60.67s/it]\n",
      "142it [3:53:02, 123.95s/it]"
     ]
    },
    {
     "name": "stdout",
     "output_type": "stream",
     "text": [
      "running for date 2018-10-31T00:00:00.000000000\n"
     ]
    },
    {
     "name": "stderr",
     "output_type": "stream",
     "text": []
    },
    {
     "name": "stdout",
     "output_type": "stream",
     "text": [
      "** On entry to DLASCL, parameter number  4 had an illegal value\n",
      "** On entry to DLASCL, parameter number  4 had an illegal value\n"
     ]
    },
    {
     "name": "stderr",
     "output_type": "stream",
     "text": []
    },
    {
     "name": "stdout",
     "output_type": "stream",
     "text": [
      "** On entry to DLASCL, parameter number  4 had an illegal value\n",
      "** On entry to DLASCL, parameter number  4 had an illegal value\n"
     ]
    },
    {
     "name": "stderr",
     "output_type": "stream",
     "text": [
      "100%|██████████| 2/2 [02:03<00:00, 61.81s/it]\n",
      "143it [3:55:06, 123.87s/it]"
     ]
    },
    {
     "name": "stdout",
     "output_type": "stream",
     "text": [
      "running for date 2018-11-30T00:00:00.000000000\n"
     ]
    },
    {
     "name": "stderr",
     "output_type": "stream",
     "text": []
    },
    {
     "name": "stdout",
     "output_type": "stream",
     "text": [
      "** On entry to DLASCL, parameter number  4 had an illegal value\n",
      "** On entry to DLASCL, parameter number  4 had an illegal value\n"
     ]
    },
    {
     "name": "stderr",
     "output_type": "stream",
     "text": [
      "100%|██████████| 2/2 [03:07<00:00, 93.94s/it]\n",
      "144it [3:58:13, 143.09s/it]"
     ]
    },
    {
     "name": "stdout",
     "output_type": "stream",
     "text": [
      "running for date 2018-12-31T00:00:00.000000000\n"
     ]
    },
    {
     "name": "stderr",
     "output_type": "stream",
     "text": []
    },
    {
     "name": "stdout",
     "output_type": "stream",
     "text": [
      "** On entry to DLASCL, parameter number  4 had an illegal value\n",
      "** On entry to DLASCL, parameter number  4 had an illegal value\n"
     ]
    },
    {
     "name": "stderr",
     "output_type": "stream",
     "text": [
      "100%|██████████| 2/2 [02:12<00:00, 66.07s/it]\n",
      "145it [4:00:26, 139.82s/it]"
     ]
    },
    {
     "name": "stdout",
     "output_type": "stream",
     "text": [
      "running for date 2019-01-31T00:00:00.000000000\n"
     ]
    },
    {
     "name": "stderr",
     "output_type": "stream",
     "text": []
    },
    {
     "name": "stdout",
     "output_type": "stream",
     "text": [
      "** On entry to DLASCL, parameter number  4 had an illegal value\n",
      "** On entry to DLASCL, parameter number  4 had an illegal value\n"
     ]
    },
    {
     "name": "stderr",
     "output_type": "stream",
     "text": [
      "100%|██████████| 2/2 [01:56<00:00, 58.29s/it]\n",
      "146it [4:02:22, 132.87s/it]"
     ]
    },
    {
     "name": "stdout",
     "output_type": "stream",
     "text": [
      "running for date 2019-02-28T00:00:00.000000000\n"
     ]
    },
    {
     "name": "stderr",
     "output_type": "stream",
     "text": []
    },
    {
     "name": "stdout",
     "output_type": "stream",
     "text": [
      "** On entry to DLASCL, parameter number  4 had an illegal value\n",
      "** On entry to DLASCL, parameter number  4 had an illegal value\n"
     ]
    },
    {
     "name": "stderr",
     "output_type": "stream",
     "text": [
      "100%|██████████| 2/2 [01:50<00:00, 55.16s/it]\n",
      "147it [4:04:13, 126.15s/it]"
     ]
    },
    {
     "name": "stdout",
     "output_type": "stream",
     "text": [
      "running for date 2019-03-31T00:00:00.000000000\n"
     ]
    },
    {
     "name": "stderr",
     "output_type": "stream",
     "text": []
    },
    {
     "name": "stdout",
     "output_type": "stream",
     "text": [
      "** On entry to DLASCL, parameter number  4 had an illegal value\n",
      "** On entry to DLASCL, parameter number  4 had an illegal value\n"
     ]
    },
    {
     "name": "stderr",
     "output_type": "stream",
     "text": [
      "100%|██████████| 2/2 [00:29<00:00, 14.87s/it]\n",
      "148it [4:04:43, 97.24s/it] "
     ]
    },
    {
     "name": "stdout",
     "output_type": "stream",
     "text": [
      "running for date 2019-04-30T00:00:00.000000000\n"
     ]
    },
    {
     "name": "stderr",
     "output_type": "stream",
     "text": []
    },
    {
     "name": "stdout",
     "output_type": "stream",
     "text": [
      "** On entry to DLASCL, parameter number  4 had an illegal value\n",
      "** On entry to DLASCL, parameter number  4 had an illegal value\n"
     ]
    },
    {
     "name": "stderr",
     "output_type": "stream",
     "text": [
      "100%|██████████| 2/2 [02:29<00:00, 74.57s/it]\n",
      "149it [4:07:12, 112.82s/it]"
     ]
    },
    {
     "name": "stdout",
     "output_type": "stream",
     "text": [
      "running for date 2019-05-31T00:00:00.000000000\n"
     ]
    },
    {
     "name": "stderr",
     "output_type": "stream",
     "text": []
    },
    {
     "name": "stdout",
     "output_type": "stream",
     "text": [
      "** On entry to DLASCL, parameter number  4 had an illegal value\n",
      "** On entry to DLASCL, parameter number  4 had an illegal value\n"
     ]
    },
    {
     "name": "stderr",
     "output_type": "stream",
     "text": [
      "100%|██████████| 2/2 [01:56<00:00, 58.49s/it]\n",
      "150it [4:09:09, 114.09s/it]"
     ]
    },
    {
     "name": "stdout",
     "output_type": "stream",
     "text": [
      "running for date 2019-06-30T00:00:00.000000000\n"
     ]
    },
    {
     "name": "stderr",
     "output_type": "stream",
     "text": [
      "100%|██████████| 2/2 [03:28<00:00, 104.29s/it]\n",
      "151it [4:12:37, 142.45s/it]"
     ]
    },
    {
     "name": "stdout",
     "output_type": "stream",
     "text": [
      "running for date 2019-07-31T00:00:00.000000000\n"
     ]
    },
    {
     "name": "stderr",
     "output_type": "stream",
     "text": [
      "100%|██████████| 2/2 [02:19<00:00, 69.66s/it]\n",
      "152it [4:14:57, 141.54s/it]"
     ]
    },
    {
     "name": "stdout",
     "output_type": "stream",
     "text": [
      "running for date 2019-08-31T00:00:00.000000000\n"
     ]
    },
    {
     "name": "stderr",
     "output_type": "stream",
     "text": [
      "100%|██████████| 2/2 [02:16<00:00, 68.09s/it]\n",
      "153it [4:17:13, 139.95s/it]"
     ]
    },
    {
     "name": "stdout",
     "output_type": "stream",
     "text": [
      "running for date 2019-09-30T00:00:00.000000000\n"
     ]
    },
    {
     "name": "stderr",
     "output_type": "stream",
     "text": [
      "100%|██████████| 2/2 [02:37<00:00, 78.68s/it]\n",
      "154it [4:19:51, 145.20s/it]"
     ]
    },
    {
     "name": "stdout",
     "output_type": "stream",
     "text": [
      "running for date 2019-10-31T00:00:00.000000000\n"
     ]
    },
    {
     "name": "stderr",
     "output_type": "stream",
     "text": [
      "100%|██████████| 2/2 [00:00<00:00,  5.58it/s]\n",
      "155it [4:19:51, 101.77s/it]"
     ]
    },
    {
     "name": "stdout",
     "output_type": "stream",
     "text": [
      "running for date 2019-11-30T00:00:00.000000000\n"
     ]
    },
    {
     "name": "stderr",
     "output_type": "stream",
     "text": [
      "100%|██████████| 2/2 [02:51<00:00, 85.90s/it]\n",
      "156it [4:22:43, 122.80s/it]"
     ]
    },
    {
     "name": "stdout",
     "output_type": "stream",
     "text": [
      "running for date 2019-12-31T00:00:00.000000000\n"
     ]
    },
    {
     "name": "stderr",
     "output_type": "stream",
     "text": [
      "100%|██████████| 2/2 [03:00<00:00, 90.04s/it]\n",
      "157it [4:25:43, 140.01s/it]"
     ]
    },
    {
     "name": "stdout",
     "output_type": "stream",
     "text": [
      "running for date 2020-01-31T00:00:00.000000000\n"
     ]
    },
    {
     "name": "stderr",
     "output_type": "stream",
     "text": [
      "100%|██████████| 2/2 [03:00<00:00, 90.30s/it]\n",
      "158it [4:28:44, 152.21s/it]"
     ]
    },
    {
     "name": "stdout",
     "output_type": "stream",
     "text": [
      "running for date 2020-02-29T00:00:00.000000000\n"
     ]
    },
    {
     "name": "stderr",
     "output_type": "stream",
     "text": [
      "100%|██████████| 2/2 [03:00<00:00, 90.00s/it]\n",
      "159it [4:31:44, 160.57s/it]"
     ]
    },
    {
     "name": "stdout",
     "output_type": "stream",
     "text": [
      "running for date 2020-03-31T00:00:00.000000000\n"
     ]
    },
    {
     "name": "stderr",
     "output_type": "stream",
     "text": [
      "100%|██████████| 2/2 [03:04<00:00, 92.26s/it]\n",
      "160it [4:34:48, 167.78s/it]"
     ]
    },
    {
     "name": "stdout",
     "output_type": "stream",
     "text": [
      "running for date 2020-04-30T00:00:00.000000000\n"
     ]
    },
    {
     "name": "stderr",
     "output_type": "stream",
     "text": [
      "100%|██████████| 2/2 [00:40<00:00, 20.33s/it]\n",
      "161it [4:35:29, 129.67s/it]"
     ]
    },
    {
     "name": "stdout",
     "output_type": "stream",
     "text": [
      "running for date 2020-05-31T00:00:00.000000000\n"
     ]
    },
    {
     "name": "stderr",
     "output_type": "stream",
     "text": [
      "100%|██████████| 2/2 [03:43<00:00, 111.78s/it]\n",
      "162it [4:39:13, 157.86s/it]"
     ]
    },
    {
     "name": "stdout",
     "output_type": "stream",
     "text": [
      "running for date 2020-06-30T00:00:00.000000000\n"
     ]
    },
    {
     "name": "stderr",
     "output_type": "stream",
     "text": [
      "100%|██████████| 2/2 [00:04<00:00,  2.02s/it]\n",
      "163it [4:39:17, 111.75s/it]"
     ]
    },
    {
     "name": "stdout",
     "output_type": "stream",
     "text": [
      "running for date 2020-07-31T00:00:00.000000000\n"
     ]
    },
    {
     "name": "stderr",
     "output_type": "stream",
     "text": [
      "100%|██████████| 2/2 [03:49<00:00, 114.90s/it]\n",
      "164it [4:43:07, 147.19s/it]"
     ]
    },
    {
     "name": "stdout",
     "output_type": "stream",
     "text": [
      "running for date 2020-08-31T00:00:00.000000000\n"
     ]
    },
    {
     "name": "stderr",
     "output_type": "stream",
     "text": [
      "100%|██████████| 2/2 [00:02<00:00,  1.02s/it]\n",
      "165it [4:43:09, 103.67s/it]"
     ]
    },
    {
     "name": "stdout",
     "output_type": "stream",
     "text": [
      "running for date 2020-09-30T00:00:00.000000000\n"
     ]
    },
    {
     "name": "stderr",
     "output_type": "stream",
     "text": [
      "100%|██████████| 2/2 [00:02<00:00,  1.23s/it]\n",
      "166it [4:43:11, 73.34s/it] "
     ]
    },
    {
     "name": "stdout",
     "output_type": "stream",
     "text": [
      "running for date 2020-10-31T00:00:00.000000000\n"
     ]
    },
    {
     "name": "stderr",
     "output_type": "stream",
     "text": [
      "100%|██████████| 2/2 [03:17<00:00, 98.86s/it]\n",
      "167it [4:46:29, 110.68s/it]"
     ]
    },
    {
     "name": "stdout",
     "output_type": "stream",
     "text": [
      "running for date 2020-11-30T00:00:00.000000000\n"
     ]
    },
    {
     "name": "stderr",
     "output_type": "stream",
     "text": [
      "100%|██████████| 2/2 [00:04<00:00,  2.22s/it]\n",
      "168it [4:46:34, 78.83s/it] "
     ]
    },
    {
     "name": "stdout",
     "output_type": "stream",
     "text": [
      "running for date 2020-12-31T00:00:00.000000000\n"
     ]
    },
    {
     "name": "stderr",
     "output_type": "stream",
     "text": [
      "100%|██████████| 2/2 [00:26<00:00, 13.36s/it]\n",
      "169it [4:47:01, 63.22s/it]"
     ]
    },
    {
     "name": "stdout",
     "output_type": "stream",
     "text": [
      "running for date 2021-01-31T00:00:00.000000000\n"
     ]
    },
    {
     "name": "stderr",
     "output_type": "stream",
     "text": [
      "100%|██████████| 2/2 [01:57<00:00, 58.94s/it]\n",
      "170it [4:48:59, 79.64s/it]"
     ]
    },
    {
     "name": "stdout",
     "output_type": "stream",
     "text": [
      "running for date 2021-02-28T00:00:00.000000000\n"
     ]
    },
    {
     "name": "stderr",
     "output_type": "stream",
     "text": [
      "100%|██████████| 2/2 [02:41<00:00, 80.74s/it]\n",
      "171it [4:51:40, 104.22s/it]"
     ]
    },
    {
     "name": "stdout",
     "output_type": "stream",
     "text": [
      "running for date 2021-03-31T00:00:00.000000000\n"
     ]
    },
    {
     "name": "stderr",
     "output_type": "stream",
     "text": [
      "100%|██████████| 2/2 [02:54<00:00, 87.20s/it]\n",
      "172it [4:54:35, 125.30s/it]"
     ]
    },
    {
     "name": "stdout",
     "output_type": "stream",
     "text": [
      "running for date 2021-04-30T00:00:00.000000000\n"
     ]
    },
    {
     "name": "stderr",
     "output_type": "stream",
     "text": [
      "100%|██████████| 2/2 [02:46<00:00, 83.38s/it]\n",
      "173it [4:57:21, 137.76s/it]"
     ]
    },
    {
     "name": "stdout",
     "output_type": "stream",
     "text": [
      "running for date 2021-05-31T00:00:00.000000000\n"
     ]
    },
    {
     "name": "stderr",
     "output_type": "stream",
     "text": [
      "100%|██████████| 2/2 [01:30<00:00, 45.48s/it]\n",
      "174it [4:58:53, 123.74s/it]"
     ]
    },
    {
     "name": "stdout",
     "output_type": "stream",
     "text": [
      "running for date 2021-06-30T00:00:00.000000000\n"
     ]
    },
    {
     "name": "stderr",
     "output_type": "stream",
     "text": [
      "100%|██████████| 2/2 [01:32<00:00, 46.23s/it]\n",
      "175it [5:00:25, 114.38s/it]"
     ]
    },
    {
     "name": "stdout",
     "output_type": "stream",
     "text": [
      "running for date 2021-07-31T00:00:00.000000000\n"
     ]
    },
    {
     "name": "stderr",
     "output_type": "stream",
     "text": [
      "100%|██████████| 2/2 [02:45<00:00, 82.93s/it]\n",
      "176it [5:03:11, 129.85s/it]"
     ]
    },
    {
     "name": "stdout",
     "output_type": "stream",
     "text": [
      "running for date 2021-08-31T00:00:00.000000000\n"
     ]
    },
    {
     "name": "stderr",
     "output_type": "stream",
     "text": [
      "100%|██████████| 2/2 [02:45<00:00, 82.69s/it]\n",
      "177it [5:05:56, 140.53s/it]"
     ]
    },
    {
     "name": "stdout",
     "output_type": "stream",
     "text": [
      "running for date 2021-09-30T00:00:00.000000000\n"
     ]
    },
    {
     "name": "stderr",
     "output_type": "stream",
     "text": [
      "100%|██████████| 2/2 [00:11<00:00,  5.81s/it]\n",
      "178it [5:06:08, 101.89s/it]"
     ]
    },
    {
     "name": "stdout",
     "output_type": "stream",
     "text": [
      "running for date 2021-10-31T00:00:00.000000000\n"
     ]
    },
    {
     "name": "stderr",
     "output_type": "stream",
     "text": [
      "100%|██████████| 2/2 [00:10<00:00,  5.39s/it]\n",
      "179it [5:06:19, 74.57s/it] "
     ]
    },
    {
     "name": "stdout",
     "output_type": "stream",
     "text": [
      "running for date 2021-11-30T00:00:00.000000000\n"
     ]
    },
    {
     "name": "stderr",
     "output_type": "stream",
     "text": [
      "100%|██████████| 2/2 [00:47<00:00, 23.76s/it]\n",
      "180it [5:07:07, 66.48s/it]"
     ]
    },
    {
     "name": "stdout",
     "output_type": "stream",
     "text": [
      "running for date 2021-12-31T00:00:00.000000000\n"
     ]
    },
    {
     "name": "stderr",
     "output_type": "stream",
     "text": [
      "100%|██████████| 2/2 [03:29<00:00, 104.96s/it]\n",
      "181it [5:10:37, 109.54s/it]"
     ]
    },
    {
     "name": "stdout",
     "output_type": "stream",
     "text": [
      "running for date 2022-01-31T00:00:00.000000000\n"
     ]
    },
    {
     "name": "stderr",
     "output_type": "stream",
     "text": [
      "100%|██████████| 2/2 [00:28<00:00, 14.34s/it]\n",
      "182it [5:11:05, 85.30s/it] "
     ]
    },
    {
     "name": "stdout",
     "output_type": "stream",
     "text": [
      "running for date 2022-02-28T00:00:00.000000000\n"
     ]
    },
    {
     "name": "stderr",
     "output_type": "stream",
     "text": [
      "100%|██████████| 2/2 [03:07<00:00, 93.65s/it]\n",
      "183it [5:14:13, 115.92s/it]"
     ]
    },
    {
     "name": "stdout",
     "output_type": "stream",
     "text": [
      "running for date 2022-03-31T00:00:00.000000000\n"
     ]
    },
    {
     "name": "stderr",
     "output_type": "stream",
     "text": [
      "100%|██████████| 2/2 [03:07<00:00, 93.88s/it]\n",
      "184it [5:17:21, 137.50s/it]"
     ]
    },
    {
     "name": "stdout",
     "output_type": "stream",
     "text": [
      "running for date 2022-04-30T00:00:00.000000000\n"
     ]
    },
    {
     "name": "stderr",
     "output_type": "stream",
     "text": [
      "100%|██████████| 2/2 [02:51<00:00, 85.93s/it]\n",
      "185it [5:20:13, 147.83s/it]"
     ]
    },
    {
     "name": "stdout",
     "output_type": "stream",
     "text": [
      "running for date 2022-05-31T00:00:00.000000000\n"
     ]
    },
    {
     "name": "stderr",
     "output_type": "stream",
     "text": [
      "100%|██████████| 2/2 [00:28<00:00, 14.18s/it]\n",
      "186it [5:20:41, 112.01s/it]"
     ]
    },
    {
     "name": "stdout",
     "output_type": "stream",
     "text": [
      "running for date 2022-06-30T00:00:00.000000000\n"
     ]
    },
    {
     "name": "stderr",
     "output_type": "stream",
     "text": [
      "100%|██████████| 2/2 [00:28<00:00, 14.24s/it]\n",
      "187it [5:21:10, 86.98s/it] "
     ]
    },
    {
     "name": "stdout",
     "output_type": "stream",
     "text": [
      "running for date 2022-07-31T00:00:00.000000000\n"
     ]
    },
    {
     "name": "stderr",
     "output_type": "stream",
     "text": [
      "100%|██████████| 2/2 [02:55<00:00, 87.72s/it]\n",
      "188it [5:24:05, 113.54s/it]"
     ]
    },
    {
     "name": "stdout",
     "output_type": "stream",
     "text": [
      "running for date 2022-08-31T00:00:00.000000000\n"
     ]
    },
    {
     "name": "stderr",
     "output_type": "stream",
     "text": [
      "100%|██████████| 2/2 [03:21<00:00, 100.90s/it]\n",
      "189it [5:27:27, 140.04s/it]"
     ]
    },
    {
     "name": "stdout",
     "output_type": "stream",
     "text": [
      "running for date 2022-09-30T00:00:00.000000000\n"
     ]
    },
    {
     "name": "stderr",
     "output_type": "stream",
     "text": [
      "100%|██████████| 3/3 [00:08<00:00,  2.90s/it]\n",
      "190it [5:27:36, 100.67s/it]"
     ]
    },
    {
     "name": "stdout",
     "output_type": "stream",
     "text": [
      "running for date 2022-10-31T00:00:00.000000000\n"
     ]
    },
    {
     "name": "stderr",
     "output_type": "stream",
     "text": [
      "100%|██████████| 3/3 [00:17<00:00,  5.69s/it]\n",
      "191it [5:27:53, 103.00s/it]\n"
     ]
    }
   ],
   "source": [
    "for idx, date in tqdm(enumerate(dates_forecasts)):\n",
    "\n",
    "    ts = pd.to_datetime(str(date))\n",
    "    d = ts.strftime('%Y-%m-%d')\n",
    "\n",
    "    if os.path.isfile(os.path.join(path_to_save_frcst, f\"{d}.csv\")):\n",
    "        continue\n",
    "\n",
    "    print(\"running for date {}\".format(date))\n",
    "\n",
    "    dates_use       = pd.date_range(start=date_init, end=date, freq=\"M\")\n",
    "    fit_data        = usa_df[usa_df.date.isin((list(dates_use)))].set_index(\"date\")\n",
    "\n",
    "    arima_model     =  ARIMA_model()\n",
    "    forecast_df     = arima_model.forecast_arima(data=fit_data[\"total\"], T_future=(4*FORECAST_MONTHS))\n",
    "    forecast_df[\"forecast_date\"] = date\n",
    "    forecast_df[\"add\"]           = 0\n",
    "    forecast_df.to_csv(os.path.join(path_to_save_frcst, f\"{d}.csv\"))\n",
    "\n"
   ]
  },
  {
   "cell_type": "code",
   "execution_count": null,
   "metadata": {},
   "outputs": [],
   "source": []
  }
 ],
 "metadata": {
  "kernelspec": {
   "display_name": "base",
   "language": "python",
   "name": "python3"
  },
  "language_info": {
   "codemirror_mode": {
    "name": "ipython",
    "version": 3
   },
   "file_extension": ".py",
   "mimetype": "text/x-python",
   "name": "python",
   "nbconvert_exporter": "python",
   "pygments_lexer": "ipython3",
   "version": "3.8.2"
  },
  "orig_nbformat": 4
 },
 "nbformat": 4,
 "nbformat_minor": 2
}
